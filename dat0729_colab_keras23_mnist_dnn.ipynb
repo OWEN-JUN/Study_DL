{
  "nbformat": 4,
  "nbformat_minor": 0,
  "metadata": {
    "colab": {
      "name": "dat0729_colab_keras23_mnist_dnn.ipynb",
      "version": "0.3.2",
      "provenance": [],
      "collapsed_sections": [],
      "include_colab_link": true
    },
    "kernelspec": {
      "name": "python3",
      "display_name": "Python 3"
    }
  },
  "cells": [
    {
      "cell_type": "markdown",
      "metadata": {
        "id": "view-in-github",
        "colab_type": "text"
      },
      "source": [
        "<a href=\"https://colab.research.google.com/github/OWEN-JUN/keras_/blob/master/dat0729_colab_keras23_mnist_dnn.ipynb\" target=\"_parent\"><img src=\"https://colab.research.google.com/assets/colab-badge.svg\" alt=\"Open In Colab\"/></a>"
      ]
    },
    {
      "cell_type": "code",
      "metadata": {
        "id": "JJRkkXStaLGg",
        "colab_type": "code",
        "colab": {}
      },
      "source": [
        "from keras.datasets import mnist\n",
        "from keras.utils import np_utils, to_categorical\n",
        "from keras.models import * #sequential,\n",
        "from keras.layers import * #dense, dropout, flatten, conv2d, maxpooling2d\n",
        "from keras.callbacks import * #modelcheckpoint, earlystopping\n",
        "\n",
        "import matplotlib.pyplot as plt\n",
        "import numba\n",
        "import os\n",
        "import tensorflow as tf\n",
        "\n",
        "(x_train, y_train),(x_test,y_test) = mnist.load_data()\n",
        "\n"
      ],
      "execution_count": 0,
      "outputs": []
    },
    {
      "cell_type": "code",
      "metadata": {
        "id": "tJbnvgqnas9N",
        "colab_type": "code",
        "colab": {
          "base_uri": "https://localhost:8080/",
          "height": 217
        },
        "outputId": "a87cd31f-3a0d-4e52-d8cd-23edbaf5d60f"
      },
      "source": [
        "\n",
        "\n",
        "network = Sequential()\n",
        "network.add(Dense(512, activation=\"relu\", input_shape=(28*28,)))\n",
        "network.add(Dense(10,activation=\"softmax\"))\n",
        "\n",
        "network.compile(optimizer=\"rmsprop\", loss=\"categorical_crossentropy\", metrics=[\"accuracy\"])\n",
        "network.summary()\n",
        "x_train = x_train.reshape((60000,28*28))\n",
        "x_train = x_train.astype(\"float32\")/255\n",
        "x_test = x_test.reshape((10000,28*28))\n",
        "x_test = x_test.astype(\"float32\")/255"
      ],
      "execution_count": 17,
      "outputs": [
        {
          "output_type": "stream",
          "text": [
            "_________________________________________________________________\n",
            "Layer (type)                 Output Shape              Param #   \n",
            "=================================================================\n",
            "dense_13 (Dense)             (None, 512)               401920    \n",
            "_________________________________________________________________\n",
            "dense_14 (Dense)             (None, 10)                5130      \n",
            "=================================================================\n",
            "Total params: 407,050\n",
            "Trainable params: 407,050\n",
            "Non-trainable params: 0\n",
            "_________________________________________________________________\n"
          ],
          "name": "stdout"
        }
      ]
    },
    {
      "cell_type": "code",
      "metadata": {
        "id": "nHdOc2MabjCc",
        "colab_type": "code",
        "colab": {
          "base_uri": "https://localhost:8080/",
          "height": 235
        },
        "outputId": "b420999a-0511-4f98-bc72-ec2f1f6ebc38"
      },
      "source": [
        "y_train = to_categorical(y_train)\n",
        "y_test = to_categorical(y_test)\n",
        "\n",
        "network.fit(x_train, y_train, epochs=5, batch_size=128)\n",
        "\n",
        "loss, acc = network.evaluate(x_test, y_test)\n",
        "print(\"acc:\",acc)"
      ],
      "execution_count": 16,
      "outputs": [
        {
          "output_type": "stream",
          "text": [
            "Epoch 1/5\n",
            "60000/60000 [==============================] - 5s 78us/step - loss: 0.2547 - acc: 0.9260\n",
            "Epoch 2/5\n",
            "60000/60000 [==============================] - 5s 76us/step - loss: 0.1026 - acc: 0.9695\n",
            "Epoch 3/5\n",
            "60000/60000 [==============================] - 4s 75us/step - loss: 0.0672 - acc: 0.9799\n",
            "Epoch 4/5\n",
            "60000/60000 [==============================] - 5s 75us/step - loss: 0.0494 - acc: 0.9855\n",
            "Epoch 5/5\n",
            "60000/60000 [==============================] - 5s 76us/step - loss: 0.0376 - acc: 0.9888\n",
            "10000/10000 [==============================] - 1s 52us/step\n",
            "acc: 0.9788\n"
          ],
          "name": "stdout"
        }
      ]
    },
    {
      "cell_type": "code",
      "metadata": {
        "id": "J9kDLLihcsSw",
        "colab_type": "code",
        "colab": {}
      },
      "source": [
        ""
      ],
      "execution_count": 0,
      "outputs": []
    }
  ]
}