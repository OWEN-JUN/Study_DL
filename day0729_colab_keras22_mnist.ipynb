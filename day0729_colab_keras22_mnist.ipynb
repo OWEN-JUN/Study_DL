{
  "nbformat": 4,
  "nbformat_minor": 0,
  "metadata": {
    "colab": {
      "name": "day0729_colab_keras22_mnist.ipynb",
      "version": "0.3.2",
      "provenance": [],
      "collapsed_sections": [],
      "include_colab_link": true
    },
    "kernelspec": {
      "name": "python3",
      "display_name": "Python 3"
    },
    "accelerator": "GPU"
  },
  "cells": [
    {
      "cell_type": "markdown",
      "metadata": {
        "id": "view-in-github",
        "colab_type": "text"
      },
      "source": [
        "<a href=\"https://colab.research.google.com/github/OWEN-JUN/keras_/blob/master/day0729_colab_keras22_mnist.ipynb\" target=\"_parent\"><img src=\"https://colab.research.google.com/assets/colab-badge.svg\" alt=\"Open In Colab\"/></a>"
      ]
    },
    {
      "cell_type": "code",
      "metadata": {
        "id": "GyUrgIASQCf5",
        "colab_type": "code",
        "colab": {}
      },
      "source": [
        "from keras.datasets import mnist\n",
        "from keras.utils import np_utils\n",
        "from keras.models import * #sequential\n",
        "from keras.layers import * #dense, dropout, flatten, conv2d, maxpooling2d\n",
        "from keras.callbacks import * #modelcheckpoint, earlystopping\n",
        "\n",
        "import matplotlib.pyplot as plt\n",
        "import numba\n",
        "import os\n",
        "import tensorflow as tf"
      ],
      "execution_count": 0,
      "outputs": []
    },
    {
      "cell_type": "code",
      "metadata": {
        "id": "_4R7k-GnQlQ0",
        "colab_type": "code",
        "colab": {}
      },
      "source": [
        "(x_train, y_train),(x_test,y_test) = mnist.load_data()\n",
        "x_train = x_train.reshape(x_train.shape[0],28,28,1).astype(\"float32\")/255\n",
        "x_test = x_test.reshape(x_test.shape[0],28,28,1).astype(\"float32\")/255\n",
        "y_train= np_utils.to_categorical(y_train)\n",
        "y_test= np_utils.to_categorical(y_test)\n",
        "\n"
      ],
      "execution_count": 0,
      "outputs": []
    },
    {
      "cell_type": "code",
      "metadata": {
        "id": "zDUW2sqKRzZR",
        "colab_type": "code",
        "colab": {}
      },
      "source": [
        "model = Sequential()"
      ],
      "execution_count": 0,
      "outputs": []
    },
    {
      "cell_type": "code",
      "metadata": {
        "id": "r8chEc48R62s",
        "colab_type": "code",
        "colab": {
          "base_uri": "https://localhost:8080/",
          "height": 854
        },
        "outputId": "9b4c7fcf-9cce-4a4a-8b9d-03aaee1f1d44"
      },
      "source": [
        "model.add(Conv2D(32,kernel_size=(3,3), input_shape=(28,28,1),activation=\"relu\"))\n",
        "model.add(Conv2D(64,(3,3),activation=\"relu\"))\n",
        "model.add(MaxPooling2D(pool_size=2))\n",
        "model.add(Dropout(0.25))\n",
        "model.add(Flatten())\n",
        "model.add(Dense(128, activation=\"relu\"))\n",
        "model.add(Dropout(0.5))\n",
        "model.add(Dense(10,activation=\"softmax\"))\n",
        "\n",
        "model.compile(loss=\"categorical_crossentropy\",optimizer=\"adam\",metrics=[\"accuracy\"])\n",
        "\n",
        "\n",
        "early_stoping_callback = EarlyStopping(monitor=\"val_loss\",patience=10)\n",
        "\n",
        "history = model.fit(x_train, y_train, validation_data=(x_test, y_test), epochs = 30, batch_size=200, verbose=2,callbacks=[early_stoping_callback])\n",
        "\n",
        "print(\"\\n test acc: %.4f\"%(model.evaluate(x_test, y_test)[1]))"
      ],
      "execution_count": 9,
      "outputs": [
        {
          "output_type": "stream",
          "text": [
            "Train on 60000 samples, validate on 10000 samples\n",
            "Epoch 1/30\n",
            " - 4s - loss: 0.2832 - acc: 0.9139 - val_loss: 0.0571 - val_acc: 0.9824\n",
            "Epoch 2/30\n",
            " - 4s - loss: 0.0906 - acc: 0.9734 - val_loss: 0.0421 - val_acc: 0.9858\n",
            "Epoch 3/30\n",
            " - 4s - loss: 0.0664 - acc: 0.9799 - val_loss: 0.0337 - val_acc: 0.9891\n",
            "Epoch 4/30\n",
            " - 4s - loss: 0.0559 - acc: 0.9831 - val_loss: 0.0312 - val_acc: 0.9887\n",
            "Epoch 5/30\n",
            " - 4s - loss: 0.0461 - acc: 0.9859 - val_loss: 0.0336 - val_acc: 0.9894\n",
            "Epoch 6/30\n",
            " - 4s - loss: 0.0428 - acc: 0.9868 - val_loss: 0.0304 - val_acc: 0.9904\n",
            "Epoch 7/30\n",
            " - 4s - loss: 0.0360 - acc: 0.9886 - val_loss: 0.0301 - val_acc: 0.9905\n",
            "Epoch 8/30\n",
            " - 4s - loss: 0.0347 - acc: 0.9889 - val_loss: 0.0313 - val_acc: 0.9904\n",
            "Epoch 9/30\n",
            " - 4s - loss: 0.0306 - acc: 0.9903 - val_loss: 0.0286 - val_acc: 0.9908\n",
            "Epoch 10/30\n",
            " - 4s - loss: 0.0273 - acc: 0.9911 - val_loss: 0.0281 - val_acc: 0.9914\n",
            "Epoch 11/30\n",
            " - 4s - loss: 0.0236 - acc: 0.9923 - val_loss: 0.0263 - val_acc: 0.9924\n",
            "Epoch 12/30\n",
            " - 4s - loss: 0.0236 - acc: 0.9922 - val_loss: 0.0293 - val_acc: 0.9905\n",
            "Epoch 13/30\n",
            " - 4s - loss: 0.0231 - acc: 0.9925 - val_loss: 0.0268 - val_acc: 0.9922\n",
            "Epoch 14/30\n",
            " - 4s - loss: 0.0198 - acc: 0.9937 - val_loss: 0.0284 - val_acc: 0.9923\n",
            "Epoch 15/30\n",
            " - 4s - loss: 0.0183 - acc: 0.9938 - val_loss: 0.0313 - val_acc: 0.9914\n",
            "Epoch 16/30\n",
            " - 4s - loss: 0.0174 - acc: 0.9942 - val_loss: 0.0296 - val_acc: 0.9925\n",
            "Epoch 17/30\n",
            " - 4s - loss: 0.0173 - acc: 0.9944 - val_loss: 0.0302 - val_acc: 0.9922\n",
            "Epoch 18/30\n",
            " - 4s - loss: 0.0171 - acc: 0.9940 - val_loss: 0.0273 - val_acc: 0.9926\n",
            "Epoch 19/30\n",
            " - 4s - loss: 0.0158 - acc: 0.9944 - val_loss: 0.0292 - val_acc: 0.9934\n",
            "Epoch 20/30\n",
            " - 4s - loss: 0.0137 - acc: 0.9955 - val_loss: 0.0313 - val_acc: 0.9931\n",
            "Epoch 21/30\n",
            " - 4s - loss: 0.0145 - acc: 0.9952 - val_loss: 0.0283 - val_acc: 0.9933\n",
            "10000/10000 [==============================] - 1s 53us/step\n",
            "\n",
            " test acc: 0.9933\n"
          ],
          "name": "stdout"
        }
      ]
    },
    {
      "cell_type": "code",
      "metadata": {
        "id": "YFvTa_ZMTkgT",
        "colab_type": "code",
        "colab": {}
      },
      "source": [
        ""
      ],
      "execution_count": 0,
      "outputs": []
    }
  ]
}