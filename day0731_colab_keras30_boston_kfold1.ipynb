{
  "nbformat": 4,
  "nbformat_minor": 0,
  "metadata": {
    "colab": {
      "name": "day0731_colab_keras30_boston_kfold1.ipynb",
      "version": "0.3.2",
      "provenance": [],
      "include_colab_link": true
    },
    "kernelspec": {
      "name": "python3",
      "display_name": "Python 3"
    }
  },
  "cells": [
    {
      "cell_type": "markdown",
      "metadata": {
        "id": "view-in-github",
        "colab_type": "text"
      },
      "source": [
        "<a href=\"https://colab.research.google.com/github/OWEN-JUN/keras_/blob/master/day0731_colab_keras30_boston_kfold1.ipynb\" target=\"_parent\"><img src=\"https://colab.research.google.com/assets/colab-badge.svg\" alt=\"Open In Colab\"/></a>"
      ]
    },
    {
      "cell_type": "code",
      "metadata": {
        "id": "Xgk865HYeqaR",
        "colab_type": "code",
        "outputId": "3ba2b502-d0da-4898-b831-d4d2b908ed4e",
        "colab": {
          "base_uri": "https://localhost:8080/",
          "height": 52
        }
      },
      "source": [
        "from keras.datasets import boston_housing\n",
        "from keras.models import Sequential\n",
        "from keras.layers import Dense, LSTM, Dropout\n",
        "\n",
        "(x_train, y_train),(x_test, y_test) = boston_housing.load_data()\n",
        "\n",
        "print(x_train.shape)\n",
        "print(x_test.shape)"
      ],
      "execution_count": 30,
      "outputs": [
        {
          "output_type": "stream",
          "text": [
            "(404, 13)\n",
            "(102, 13)\n"
          ],
          "name": "stdout"
        }
      ]
    },
    {
      "cell_type": "code",
      "metadata": {
        "id": "-2jFPup4fUIG",
        "colab_type": "code",
        "colab": {
          "base_uri": "https://localhost:8080/",
          "height": 247
        },
        "outputId": "804fb06b-df68-4b4e-9ac1-617f8b6c6e27"
      },
      "source": [
        "mean = x_train.mean(axis=0)\n",
        "x_train -= mean\n",
        "std = x_train.std(axis=0)\n",
        "x_train /= std\n",
        "\n",
        "x_test -= mean\n",
        "x_test /= std\n",
        "print(x_train)"
      ],
      "execution_count": 46,
      "outputs": [
        {
          "output_type": "stream",
          "text": [
            "[[-0.27224633 -0.48361547 -0.43576161 ...  1.14850044  0.44807713\n",
            "   0.8252202 ]\n",
            " [-0.40342651  2.99178419 -1.33391162 ... -1.71818909  0.43190599\n",
            "  -1.32920239]\n",
            " [ 0.1249402  -0.48361547  1.0283258  ...  0.78447637  0.22061726\n",
            "  -1.30850006]\n",
            " ...\n",
            " [-0.40202987  0.99079651 -0.7415148  ... -0.71712291  0.07943894\n",
            "  -0.67776904]\n",
            " [-0.17292018 -0.48361547  1.24588095 ... -1.71818909 -0.98764362\n",
            "   0.42083466]\n",
            " [-0.40422614  2.04394792 -1.20161456 ... -1.30866202  0.23317118\n",
            "  -1.15392266]]\n"
          ],
          "name": "stdout"
        }
      ]
    },
    {
      "cell_type": "code",
      "metadata": {
        "id": "P9zZl6UngG6E",
        "colab_type": "code",
        "colab": {}
      },
      "source": [
        "from keras.layers import *\n",
        "from keras.models import *\n",
        "\n",
        "def build_model():\n",
        "  model = Sequential()\n",
        "  model.add(Dense(64, activation=\"relu\", input_shape=(x_train.shape[1],)))\n",
        "  model.add(Dense(64, activation=\"relu\"))\n",
        "  model.add(Dense(1))\n",
        "  model.compile(optimizer=\"rmsprop\", loss=\"mse\", metrics=[\"mae\"])\n",
        "  return model\n"
      ],
      "execution_count": 0,
      "outputs": []
    },
    {
      "cell_type": "code",
      "metadata": {
        "id": "CBejqDf2jqqd",
        "colab_type": "code",
        "colab": {}
      },
      "source": [
        "\n",
        "import numpy as np\n",
        "\n",
        "k=5\n",
        "num_val_samples = len(x_train)//k\n",
        "num_epochs = 1\n",
        "all_scores = []\n",
        "\n",
        "\n"
      ],
      "execution_count": 0,
      "outputs": []
    },
    {
      "cell_type": "code",
      "metadata": {
        "id": "RAdKlWiOjtS1",
        "colab_type": "code",
        "outputId": "d4fb0fe1-e241-410b-8659-7e477e4bd993",
        "colab": {
          "base_uri": "https://localhost:8080/",
          "height": 141
        }
      },
      "source": [
        "\n",
        "for i in range(k):\n",
        "  print(\"처리중인 폴드 #\",i)\n",
        "  val_data = x_train[i * num_val_samples : (i + 1) * num_val_samples]\n",
        "  val_targets = y_train[i * num_val_samples : (i + 1) * num_val_samples]\n",
        "\n",
        "  partial_train_data = np.concatenate([x_train[: i * num_val_samples], x_train[(i + 1) * num_val_samples:]], axis = 0)\n",
        "  partial_train_targets = np.concatenate([y_train[: i * num_val_samples], y_train[( i + 1 ) * num_val_samples:]], axis = 0)\n",
        "\n",
        "  model = build_model()\n",
        "  # model.fit(partial_train_data, partial_train_targets, epochs = num_epochs, batch_size = 1, verbose=1)\n",
        "  model.fit(partial_train_data, partial_train_targets, epochs=  num_epochs, batch_size= 1, verbose= 0)\n",
        "  val_mse, val_mae = model.evaluate(val_data, val_targets, verbose = 0)\n",
        "  all_scores.append(val_mae)\n",
        "\n",
        "\n",
        "print(all_scores)\n",
        "print(np.mean(all_scores))\n",
        "\n",
        "\n",
        "\n",
        "\n",
        "\n",
        "\n",
        "\n",
        "\n"
      ],
      "execution_count": 36,
      "outputs": [
        {
          "output_type": "stream",
          "text": [
            "처리중인 폴드 # 0\n",
            "처리중인 폴드 # 1\n",
            "처리중인 폴드 # 2\n",
            "처리중인 폴드 # 3\n",
            "처리중인 폴드 # 4\n",
            "[4.011657333374023, 4.434352207183838, 4.449000263214112, 4.174638462066651, 4.752256393432617]\n",
            "4.364380931854248\n"
          ],
          "name": "stdout"
        }
      ]
    },
    {
      "cell_type": "code",
      "metadata": {
        "id": "skATdOFOitc4",
        "colab_type": "code",
        "colab": {
          "base_uri": "https://localhost:8080/",
          "height": 123
        },
        "outputId": "b6d5d8df-3caf-45a4-e31b-2690278d9552"
      },
      "source": [
        "gird = np.array([[1, 2, 3], [4, 5, 6]])\n",
        "\n",
        "gird = np.array([[1, 2, 3], [4, 5, 6]])\n",
        "\n",
        "# np.concatenate([gird, gird], axis=1)\n",
        "print(np.concatenate([gird, gird], axis=1))\n",
        "print(np.concatenate([gird, gird], axis=0))"
      ],
      "execution_count": 48,
      "outputs": [
        {
          "output_type": "stream",
          "text": [
            "[[1 2 3 1 2 3]\n",
            " [4 5 6 4 5 6]]\n",
            "[[1 2 3]\n",
            " [4 5 6]\n",
            " [1 2 3]\n",
            " [4 5 6]]\n"
          ],
          "name": "stdout"
        }
      ]
    },
    {
      "cell_type": "code",
      "metadata": {
        "id": "gFo7MyuuumHy",
        "colab_type": "code",
        "colab": {
          "base_uri": "https://localhost:8080/",
          "height": 105
        },
        "outputId": "5a2452d9-3930-466d-81da-a51924c23c96"
      },
      "source": [
        "import numpy as np\n",
        "from sklearn.model_selection import StratifiedKFold\n",
        "X = np.array([[1, 2], [3, 4], [1, 2], [3, 4],[5,6]])\n",
        "y = np.array([0, 0, 1, 1,5])\n",
        "# skf = StratifiedKFold(n_splits=2)\n",
        "# skf.get_n_splits(X, y)\n",
        "# 2\n",
        "\n",
        "\n",
        "print(skf)  \n",
        "StratifiedKFold(n_splits=3, random_state=None, shuffle=False)\n",
        "for train_index, test_index in skf.split(X, y):\n",
        "    print(\"TRAIN:\", train_index, \"TEST:\", test_index)\n",
        "    X_train, X_test = X[train_index], X[test_index]\n",
        "    y_train, y_test = y[train_index], y[test_index]"
      ],
      "execution_count": 67,
      "outputs": [
        {
          "output_type": "stream",
          "text": [
            "StratifiedKFold(n_splits=2, random_state=None, shuffle=False)\n",
            "TRAIN: [1 3] TEST: [0 2 4]\n",
            "TRAIN: [0 2 4] TEST: [1 3]\n"
          ],
          "name": "stdout"
        },
        {
          "output_type": "stream",
          "text": [
            "/usr/local/lib/python3.6/dist-packages/sklearn/model_selection/_split.py:657: Warning: The least populated class in y has only 1 members, which is too few. The minimum number of members in any class cannot be less than n_splits=2.\n",
            "  % (min_groups, self.n_splits)), Warning)\n"
          ],
          "name": "stderr"
        }
      ]
    },
    {
      "cell_type": "code",
      "metadata": {
        "id": "xEAzZ7dvxNuM",
        "colab_type": "code",
        "colab": {}
      },
      "source": [
        ""
      ],
      "execution_count": 0,
      "outputs": []
    }
  ]
}