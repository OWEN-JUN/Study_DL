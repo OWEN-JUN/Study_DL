{
  "nbformat": 4,
  "nbformat_minor": 0,
  "metadata": {
    "colab": {
      "name": "day0731_colab_keras30_boston_kfold1.ipynb",
      "version": "0.3.2",
      "provenance": [],
      "include_colab_link": true
    },
    "kernelspec": {
      "name": "python3",
      "display_name": "Python 3"
    }
  },
  "cells": [
    {
      "cell_type": "markdown",
      "metadata": {
        "id": "view-in-github",
        "colab_type": "text"
      },
      "source": [
        "<a href=\"https://colab.research.google.com/github/OWEN-JUN/keras_/blob/master/day0731_colab_keras30_boston_kfold1.ipynb\" target=\"_parent\"><img src=\"https://colab.research.google.com/assets/colab-badge.svg\" alt=\"Open In Colab\"/></a>"
      ]
    },
    {
      "cell_type": "code",
      "metadata": {
        "id": "Xgk865HYeqaR",
        "colab_type": "code",
        "outputId": "797cdcb6-77a8-49ba-ece5-4894c6a88f2d",
        "colab": {
          "base_uri": "https://localhost:8080/",
          "height": 158
        }
      },
      "source": [
        "from keras.datasets import boston_housing\n",
        "from keras.models import Sequential\n",
        "from keras.layers import Dense, LSTM, Dropout, BatchNormalization\n",
        "\n",
        "import numpy as np\n",
        "from sklearn.model_selection import KFold\n",
        "from sklearn.preprocessing import StandardScaler, MinMaxScaler\n",
        "(x_train, y_train),(x_test, y_test) = boston_housing.load_data()\n",
        "\n",
        "print(x_train.shape)\n",
        "print(x_test.shape)\n",
        "print(y_train.shape)\n",
        "print(x_train[0])"
      ],
      "execution_count": 1,
      "outputs": [
        {
          "output_type": "stream",
          "text": [
            "Using TensorFlow backend.\n"
          ],
          "name": "stderr"
        },
        {
          "output_type": "stream",
          "text": [
            "Downloading data from https://s3.amazonaws.com/keras-datasets/boston_housing.npz\n",
            "57344/57026 [==============================] - 0s 0us/step\n",
            "(404, 13)\n",
            "(102, 13)\n",
            "(404,)\n",
            "[  1.23247   0.        8.14      0.        0.538     6.142    91.7\n",
            "   3.9769    4.      307.       21.      396.9      18.72   ]\n"
          ],
          "name": "stdout"
        }
      ]
    },
    {
      "cell_type": "code",
      "metadata": {
        "id": "-2jFPup4fUIG",
        "colab_type": "code",
        "colab": {}
      },
      "source": [
        "# stand = StandardScaler()\n",
        "norm = MinMaxScaler()\n",
        "# stand.fit(x_train)\n",
        "# x_train = stand.transform(x_train)\n",
        "# x_test = stand.transform(x_test)\n",
        "norm.fit(x_train)\n",
        "x_train = norm.transform(x_train)\n",
        "x_test = norm.transform(x_test)\n",
        "\n",
        "# mean = x_train.mean(axis=0)\n",
        "# x_train -= mean\n",
        "# std = x_train.std(axis=0)\n",
        "# x_train /= std\n",
        "\n",
        "# x_test -= mean\n",
        "# x_test /= std\n",
        "# print(type(x_train))\n",
        "# print(x_train[0:3])"
      ],
      "execution_count": 0,
      "outputs": []
    },
    {
      "cell_type": "code",
      "metadata": {
        "id": "P9zZl6UngG6E",
        "colab_type": "code",
        "colab": {}
      },
      "source": [
        "from keras.layers import *\n",
        "from keras.models import *\n",
        "\n",
        "def build_model():\n",
        "  model = Sequential()\n",
        "  model.add(Dense(300, activation=\"relu\", input_shape=(x_train.shape[1],)))\n",
        "  model.add(Dense(500, activation=\"relu\"))\n",
        "\n",
        "  model.add(Dense(50, activation=\"relu\"))\n",
        "  model.add(Dense(1))\n",
        "  model.compile(optimizer=\"rmsprop\", loss=\"mse\", metrics=[\"mae\"])\n",
        "  return model\n"
      ],
      "execution_count": 0,
      "outputs": []
    },
    {
      "cell_type": "code",
      "metadata": {
        "id": "CBejqDf2jqqd",
        "colab_type": "code",
        "colab": {}
      },
      "source": [
        "\n",
        "import numpy as np\n",
        "\n",
        "k=4\n",
        "num_val_samples = len(x_train)//k\n",
        "num_epochs = 100\n",
        "all_scores = []\n",
        "# skf = KFold(n_splits=K)\n",
        "# for train_index, test_index in skf.split(x_train,y_train):\n",
        "#     print(\"TRAIN:\", train_index, \"TEST:\", test_index)\n",
        "#     x, x_train_test = x_train[train_index], x_train[test_index]\n",
        "#     y, y_train_test = y_train[train_index], y_train[test_index]\n",
        "\n",
        "# print(len(x),len(x_train_test))"
      ],
      "execution_count": 0,
      "outputs": []
    },
    {
      "cell_type": "code",
      "metadata": {
        "id": "RAdKlWiOjtS1",
        "colab_type": "code",
        "outputId": "ff051197-bd80-4b5e-e908-058c91ed83e7",
        "colab": {
          "base_uri": "https://localhost:8080/",
          "height": 1000
        }
      },
      "source": [
        "\n",
        "for i in range(k):\n",
        "    print(\"처리중인 폴드 #\",i)    \n",
        "#   val_data = x_train[i * num_val_samples : (i + 1) * num_val_samples]\n",
        "#   val_targets = y_train[i * num_val_samples : (i + 1) * num_val_samples]\n",
        "\n",
        "#   partial_train_data = np.concatenate([x_train[: i * num_val_samples], x_train[(i + 1) * num_val_samples:]], axis = 0)\n",
        "#   partial_train_targets = np.concatenate([y_train[: i * num_val_samples], y_train[( i + 1 ) * num_val_samples:]], axis = 0)\n",
        "    skf = KFold(n_splits=k)\n",
        "    for train_index, test_index in skf.split(x_train,y_train):\n",
        "        # print(\"TRAIN:\", train_index, \"TEST:\", test_index)\n",
        "        partial_train_data, val_data = x_train[train_index], x_train[test_index]\n",
        "        partial_train_targets, val_targets = y_train[train_index], y_train[test_index]\n",
        "    model = build_model()\n",
        "\n",
        "    model.fit(partial_train_data, partial_train_targets, epochs = num_epochs, batch_size = 5, verbose=1)\n",
        "    \n",
        "    val_mse, val_mae = model.evaluate(x_train_test, y_train_test, verbose = 0)\n",
        "    all_scores.append(val_mae)\n",
        "\n",
        "\n",
        "print(all_scores)\n",
        "print(np.mean(all_scores))\n",
        "\n",
        "\n",
        "\n",
        "\n",
        "\n",
        "\n",
        "\n",
        "\n"
      ],
      "execution_count": 5,
      "outputs": [
        {
          "output_type": "stream",
          "text": [
            "WARNING: Logging before flag parsing goes to stderr.\n",
            "W0731 08:05:46.945249 140667416778624 deprecation_wrapper.py:119] From /usr/local/lib/python3.6/dist-packages/keras/backend/tensorflow_backend.py:74: The name tf.get_default_graph is deprecated. Please use tf.compat.v1.get_default_graph instead.\n",
            "\n",
            "W0731 08:05:46.988213 140667416778624 deprecation_wrapper.py:119] From /usr/local/lib/python3.6/dist-packages/keras/backend/tensorflow_backend.py:517: The name tf.placeholder is deprecated. Please use tf.compat.v1.placeholder instead.\n",
            "\n",
            "W0731 08:05:46.994923 140667416778624 deprecation_wrapper.py:119] From /usr/local/lib/python3.6/dist-packages/keras/backend/tensorflow_backend.py:4138: The name tf.random_uniform is deprecated. Please use tf.random.uniform instead.\n",
            "\n",
            "W0731 08:05:47.054355 140667416778624 deprecation_wrapper.py:119] From /usr/local/lib/python3.6/dist-packages/keras/optimizers.py:790: The name tf.train.Optimizer is deprecated. Please use tf.compat.v1.train.Optimizer instead.\n",
            "\n"
          ],
          "name": "stderr"
        },
        {
          "output_type": "stream",
          "text": [
            "처리중인 폴드 # 0\n"
          ],
          "name": "stdout"
        },
        {
          "output_type": "stream",
          "text": [
            "W0731 08:05:47.249182 140667416778624 deprecation_wrapper.py:119] From /usr/local/lib/python3.6/dist-packages/keras/backend/tensorflow_backend.py:986: The name tf.assign_add is deprecated. Please use tf.compat.v1.assign_add instead.\n",
            "\n",
            "W0731 08:05:47.259389 140667416778624 deprecation_wrapper.py:119] From /usr/local/lib/python3.6/dist-packages/keras/backend/tensorflow_backend.py:973: The name tf.assign is deprecated. Please use tf.compat.v1.assign instead.\n",
            "\n"
          ],
          "name": "stderr"
        },
        {
          "output_type": "stream",
          "text": [
            "Epoch 1/100\n",
            "303/303 [==============================] - 1s 3ms/step - loss: 124.2604 - mean_absolute_error: 7.9211\n",
            "Epoch 2/100\n",
            "303/303 [==============================] - 0s 729us/step - loss: 42.2635 - mean_absolute_error: 4.5428\n",
            "Epoch 3/100\n",
            "303/303 [==============================] - 0s 728us/step - loss: 32.0258 - mean_absolute_error: 4.0097\n",
            "Epoch 4/100\n",
            "303/303 [==============================] - 0s 718us/step - loss: 26.8847 - mean_absolute_error: 3.5526\n",
            "Epoch 5/100\n",
            "303/303 [==============================] - 0s 680us/step - loss: 22.7656 - mean_absolute_error: 3.3855\n",
            "Epoch 6/100\n",
            "303/303 [==============================] - 0s 679us/step - loss: 22.3600 - mean_absolute_error: 3.2734\n",
            "Epoch 7/100\n",
            "303/303 [==============================] - 0s 689us/step - loss: 20.8662 - mean_absolute_error: 3.1632\n",
            "Epoch 8/100\n",
            "303/303 [==============================] - 0s 676us/step - loss: 18.7128 - mean_absolute_error: 3.0971\n",
            "Epoch 9/100\n",
            "303/303 [==============================] - 0s 688us/step - loss: 18.0014 - mean_absolute_error: 2.8646\n",
            "Epoch 10/100\n",
            "303/303 [==============================] - 0s 665us/step - loss: 17.5971 - mean_absolute_error: 2.9010\n",
            "Epoch 11/100\n",
            "303/303 [==============================] - 0s 688us/step - loss: 15.5163 - mean_absolute_error: 2.7754\n",
            "Epoch 12/100\n",
            "303/303 [==============================] - 0s 698us/step - loss: 14.8078 - mean_absolute_error: 2.5967\n",
            "Epoch 13/100\n",
            "303/303 [==============================] - 0s 670us/step - loss: 14.3099 - mean_absolute_error: 2.6624\n",
            "Epoch 14/100\n",
            "303/303 [==============================] - 0s 790us/step - loss: 13.4391 - mean_absolute_error: 2.5376\n",
            "Epoch 15/100\n",
            "303/303 [==============================] - 0s 681us/step - loss: 13.4647 - mean_absolute_error: 2.6097\n",
            "Epoch 16/100\n",
            "303/303 [==============================] - 0s 702us/step - loss: 12.4504 - mean_absolute_error: 2.4577\n",
            "Epoch 17/100\n",
            "303/303 [==============================] - 0s 781us/step - loss: 13.0517 - mean_absolute_error: 2.5287\n",
            "Epoch 18/100\n",
            "303/303 [==============================] - 0s 703us/step - loss: 11.1180 - mean_absolute_error: 2.4149\n",
            "Epoch 19/100\n",
            "303/303 [==============================] - 0s 696us/step - loss: 9.9863 - mean_absolute_error: 2.3238\n",
            "Epoch 20/100\n",
            "303/303 [==============================] - 0s 743us/step - loss: 11.2280 - mean_absolute_error: 2.3616\n",
            "Epoch 21/100\n",
            "303/303 [==============================] - 0s 772us/step - loss: 9.5923 - mean_absolute_error: 2.2518\n",
            "Epoch 22/100\n",
            "303/303 [==============================] - 0s 769us/step - loss: 10.6292 - mean_absolute_error: 2.3686\n",
            "Epoch 23/100\n",
            "303/303 [==============================] - 0s 698us/step - loss: 9.9653 - mean_absolute_error: 2.2791\n",
            "Epoch 24/100\n",
            "303/303 [==============================] - 0s 730us/step - loss: 10.6473 - mean_absolute_error: 2.3680\n",
            "Epoch 25/100\n",
            "303/303 [==============================] - 0s 684us/step - loss: 9.7196 - mean_absolute_error: 2.2494\n",
            "Epoch 26/100\n",
            "303/303 [==============================] - 0s 670us/step - loss: 9.1496 - mean_absolute_error: 2.1466\n",
            "Epoch 27/100\n",
            "303/303 [==============================] - 0s 674us/step - loss: 9.4161 - mean_absolute_error: 2.2441\n",
            "Epoch 28/100\n",
            "303/303 [==============================] - 0s 661us/step - loss: 9.1760 - mean_absolute_error: 2.2569\n",
            "Epoch 29/100\n",
            "303/303 [==============================] - 0s 736us/step - loss: 8.8778 - mean_absolute_error: 2.2568\n",
            "Epoch 30/100\n",
            "303/303 [==============================] - 0s 706us/step - loss: 9.8881 - mean_absolute_error: 2.2776\n",
            "Epoch 31/100\n",
            "303/303 [==============================] - 0s 696us/step - loss: 9.5918 - mean_absolute_error: 2.1655\n",
            "Epoch 32/100\n",
            "303/303 [==============================] - 0s 707us/step - loss: 8.8215 - mean_absolute_error: 2.1551\n",
            "Epoch 33/100\n",
            "303/303 [==============================] - 0s 689us/step - loss: 8.5040 - mean_absolute_error: 2.0950\n",
            "Epoch 34/100\n",
            "303/303 [==============================] - 0s 734us/step - loss: 8.5609 - mean_absolute_error: 2.0834\n",
            "Epoch 35/100\n",
            "303/303 [==============================] - 0s 691us/step - loss: 7.6748 - mean_absolute_error: 1.9622\n",
            "Epoch 36/100\n",
            "303/303 [==============================] - 0s 684us/step - loss: 8.6828 - mean_absolute_error: 2.1135\n",
            "Epoch 37/100\n",
            "303/303 [==============================] - 0s 728us/step - loss: 8.1670 - mean_absolute_error: 2.0126\n",
            "Epoch 38/100\n",
            "303/303 [==============================] - 0s 683us/step - loss: 8.2127 - mean_absolute_error: 2.0132\n",
            "Epoch 39/100\n",
            "303/303 [==============================] - 0s 696us/step - loss: 7.8604 - mean_absolute_error: 2.0177\n",
            "Epoch 40/100\n",
            "303/303 [==============================] - 0s 720us/step - loss: 8.3850 - mean_absolute_error: 2.0522\n",
            "Epoch 41/100\n",
            "303/303 [==============================] - 0s 694us/step - loss: 8.3536 - mean_absolute_error: 1.9703\n",
            "Epoch 42/100\n",
            "303/303 [==============================] - 0s 696us/step - loss: 9.0131 - mean_absolute_error: 2.0720\n",
            "Epoch 43/100\n",
            "303/303 [==============================] - 0s 709us/step - loss: 8.2569 - mean_absolute_error: 2.0770\n",
            "Epoch 44/100\n",
            "303/303 [==============================] - 0s 743us/step - loss: 8.1704 - mean_absolute_error: 2.0385\n",
            "Epoch 45/100\n",
            "303/303 [==============================] - 0s 730us/step - loss: 7.4809 - mean_absolute_error: 1.9668\n",
            "Epoch 46/100\n",
            "303/303 [==============================] - 0s 721us/step - loss: 8.2069 - mean_absolute_error: 2.0245\n",
            "Epoch 47/100\n",
            "303/303 [==============================] - 0s 681us/step - loss: 7.0172 - mean_absolute_error: 1.8588\n",
            "Epoch 48/100\n",
            "303/303 [==============================] - 0s 729us/step - loss: 7.0631 - mean_absolute_error: 1.9194\n",
            "Epoch 49/100\n",
            "303/303 [==============================] - 0s 683us/step - loss: 8.2187 - mean_absolute_error: 1.9771\n",
            "Epoch 50/100\n",
            "303/303 [==============================] - 0s 661us/step - loss: 6.7959 - mean_absolute_error: 1.7763\n",
            "Epoch 51/100\n",
            "303/303 [==============================] - 0s 675us/step - loss: 6.8977 - mean_absolute_error: 1.9234\n",
            "Epoch 52/100\n",
            "303/303 [==============================] - 0s 672us/step - loss: 6.9144 - mean_absolute_error: 1.9059\n",
            "Epoch 53/100\n",
            "303/303 [==============================] - 0s 741us/step - loss: 7.2692 - mean_absolute_error: 1.9036\n",
            "Epoch 54/100\n",
            "303/303 [==============================] - 0s 692us/step - loss: 6.4993 - mean_absolute_error: 1.7967\n",
            "Epoch 55/100\n",
            "303/303 [==============================] - 0s 688us/step - loss: 8.1855 - mean_absolute_error: 1.9889\n",
            "Epoch 56/100\n",
            "303/303 [==============================] - 0s 661us/step - loss: 5.6115 - mean_absolute_error: 1.8006\n",
            "Epoch 57/100\n",
            "303/303 [==============================] - 0s 699us/step - loss: 7.3315 - mean_absolute_error: 2.0488\n",
            "Epoch 58/100\n",
            "303/303 [==============================] - 0s 754us/step - loss: 5.7792 - mean_absolute_error: 1.7545\n",
            "Epoch 59/100\n",
            "303/303 [==============================] - 0s 747us/step - loss: 5.9571 - mean_absolute_error: 1.8124\n",
            "Epoch 60/100\n",
            "303/303 [==============================] - 0s 704us/step - loss: 6.5274 - mean_absolute_error: 1.8743\n",
            "Epoch 61/100\n",
            "303/303 [==============================] - 0s 811us/step - loss: 6.6549 - mean_absolute_error: 1.8162\n",
            "Epoch 62/100\n",
            "303/303 [==============================] - 0s 704us/step - loss: 5.8081 - mean_absolute_error: 1.7531\n",
            "Epoch 63/100\n",
            "303/303 [==============================] - 0s 778us/step - loss: 6.7530 - mean_absolute_error: 1.9382\n",
            "Epoch 64/100\n",
            "303/303 [==============================] - 0s 770us/step - loss: 5.9801 - mean_absolute_error: 1.7509\n",
            "Epoch 65/100\n",
            "303/303 [==============================] - 0s 747us/step - loss: 6.3815 - mean_absolute_error: 1.8316\n",
            "Epoch 66/100\n",
            "303/303 [==============================] - 0s 710us/step - loss: 6.2356 - mean_absolute_error: 1.7832\n",
            "Epoch 67/100\n",
            "303/303 [==============================] - 0s 734us/step - loss: 5.9837 - mean_absolute_error: 1.7379\n",
            "Epoch 68/100\n",
            "303/303 [==============================] - 0s 680us/step - loss: 5.7142 - mean_absolute_error: 1.7719\n",
            "Epoch 69/100\n",
            "303/303 [==============================] - 0s 664us/step - loss: 6.2986 - mean_absolute_error: 1.7968\n",
            "Epoch 70/100\n",
            "303/303 [==============================] - 0s 653us/step - loss: 5.9832 - mean_absolute_error: 1.8052\n",
            "Epoch 71/100\n",
            "303/303 [==============================] - 0s 748us/step - loss: 6.0407 - mean_absolute_error: 1.6762\n",
            "Epoch 72/100\n",
            "303/303 [==============================] - 0s 687us/step - loss: 5.4041 - mean_absolute_error: 1.7036\n",
            "Epoch 73/100\n",
            "303/303 [==============================] - 0s 670us/step - loss: 5.7970 - mean_absolute_error: 1.6975\n",
            "Epoch 74/100\n",
            "303/303 [==============================] - 0s 722us/step - loss: 5.7011 - mean_absolute_error: 1.7202\n",
            "Epoch 75/100\n",
            "303/303 [==============================] - 0s 681us/step - loss: 6.2897 - mean_absolute_error: 1.7178\n",
            "Epoch 76/100\n",
            "303/303 [==============================] - 0s 695us/step - loss: 5.9231 - mean_absolute_error: 1.6659\n",
            "Epoch 77/100\n",
            "303/303 [==============================] - 0s 656us/step - loss: 5.4442 - mean_absolute_error: 1.6629\n",
            "Epoch 78/100\n",
            "303/303 [==============================] - 0s 700us/step - loss: 5.3085 - mean_absolute_error: 1.7324\n",
            "Epoch 79/100\n",
            "303/303 [==============================] - 0s 667us/step - loss: 5.7357 - mean_absolute_error: 1.7227\n",
            "Epoch 80/100\n",
            "303/303 [==============================] - 0s 740us/step - loss: 6.4671 - mean_absolute_error: 1.7587\n",
            "Epoch 81/100\n",
            "303/303 [==============================] - 0s 677us/step - loss: 5.6378 - mean_absolute_error: 1.6253\n",
            "Epoch 82/100\n",
            "303/303 [==============================] - 0s 673us/step - loss: 5.2214 - mean_absolute_error: 1.6803\n",
            "Epoch 83/100\n",
            "303/303 [==============================] - 0s 661us/step - loss: 4.7753 - mean_absolute_error: 1.6386\n",
            "Epoch 84/100\n",
            "303/303 [==============================] - 0s 694us/step - loss: 4.9276 - mean_absolute_error: 1.6229\n",
            "Epoch 85/100\n",
            "303/303 [==============================] - 0s 690us/step - loss: 4.5840 - mean_absolute_error: 1.5691\n",
            "Epoch 86/100\n",
            "303/303 [==============================] - 0s 690us/step - loss: 5.7204 - mean_absolute_error: 1.6556\n",
            "Epoch 87/100\n",
            "303/303 [==============================] - 0s 668us/step - loss: 5.4715 - mean_absolute_error: 1.6499\n",
            "Epoch 88/100\n",
            "303/303 [==============================] - 0s 665us/step - loss: 5.0191 - mean_absolute_error: 1.7267\n",
            "Epoch 89/100\n",
            "303/303 [==============================] - 0s 693us/step - loss: 4.9196 - mean_absolute_error: 1.6693\n",
            "Epoch 90/100\n",
            "303/303 [==============================] - 0s 664us/step - loss: 5.4367 - mean_absolute_error: 1.6705\n",
            "Epoch 91/100\n",
            "303/303 [==============================] - 0s 696us/step - loss: 4.5592 - mean_absolute_error: 1.5807\n",
            "Epoch 92/100\n",
            "303/303 [==============================] - 0s 698us/step - loss: 4.7417 - mean_absolute_error: 1.5827\n",
            "Epoch 93/100\n",
            "303/303 [==============================] - 0s 721us/step - loss: 5.7134 - mean_absolute_error: 1.7535\n",
            "Epoch 94/100\n",
            "303/303 [==============================] - 0s 689us/step - loss: 5.0944 - mean_absolute_error: 1.6709\n",
            "Epoch 95/100\n",
            "303/303 [==============================] - 0s 738us/step - loss: 5.0352 - mean_absolute_error: 1.6330\n",
            "Epoch 96/100\n",
            "303/303 [==============================] - 0s 727us/step - loss: 4.6446 - mean_absolute_error: 1.5674\n",
            "Epoch 97/100\n",
            "303/303 [==============================] - 0s 690us/step - loss: 4.5221 - mean_absolute_error: 1.5649\n",
            "Epoch 98/100\n",
            "303/303 [==============================] - 0s 726us/step - loss: 5.1014 - mean_absolute_error: 1.5933\n",
            "Epoch 99/100\n",
            "303/303 [==============================] - 0s 689us/step - loss: 4.6374 - mean_absolute_error: 1.5823\n",
            "Epoch 100/100\n",
            "303/303 [==============================] - 0s 710us/step - loss: 4.2500 - mean_absolute_error: 1.5747\n"
          ],
          "name": "stdout"
        },
        {
          "output_type": "error",
          "ename": "NameError",
          "evalue": "ignored",
          "traceback": [
            "\u001b[0;31m---------------------------------------------------------------------------\u001b[0m",
            "\u001b[0;31mNameError\u001b[0m                                 Traceback (most recent call last)",
            "\u001b[0;32m<ipython-input-5-e502aa05d47e>\u001b[0m in \u001b[0;36m<module>\u001b[0;34m()\u001b[0m\n\u001b[1;32m     16\u001b[0m     \u001b[0mmodel\u001b[0m\u001b[0;34m.\u001b[0m\u001b[0mfit\u001b[0m\u001b[0;34m(\u001b[0m\u001b[0mpartial_train_data\u001b[0m\u001b[0;34m,\u001b[0m \u001b[0mpartial_train_targets\u001b[0m\u001b[0;34m,\u001b[0m \u001b[0mepochs\u001b[0m \u001b[0;34m=\u001b[0m \u001b[0mnum_epochs\u001b[0m\u001b[0;34m,\u001b[0m \u001b[0mbatch_size\u001b[0m \u001b[0;34m=\u001b[0m \u001b[0;36m5\u001b[0m\u001b[0;34m,\u001b[0m \u001b[0mverbose\u001b[0m\u001b[0;34m=\u001b[0m\u001b[0;36m1\u001b[0m\u001b[0;34m)\u001b[0m\u001b[0;34m\u001b[0m\u001b[0;34m\u001b[0m\u001b[0m\n\u001b[1;32m     17\u001b[0m \u001b[0;34m\u001b[0m\u001b[0m\n\u001b[0;32m---> 18\u001b[0;31m     \u001b[0mval_mse\u001b[0m\u001b[0;34m,\u001b[0m \u001b[0mval_mae\u001b[0m \u001b[0;34m=\u001b[0m \u001b[0mmodel\u001b[0m\u001b[0;34m.\u001b[0m\u001b[0mevaluate\u001b[0m\u001b[0;34m(\u001b[0m\u001b[0mx_train_test\u001b[0m\u001b[0;34m,\u001b[0m \u001b[0my_train_test\u001b[0m\u001b[0;34m,\u001b[0m \u001b[0mverbose\u001b[0m \u001b[0;34m=\u001b[0m \u001b[0;36m0\u001b[0m\u001b[0;34m)\u001b[0m\u001b[0;34m\u001b[0m\u001b[0;34m\u001b[0m\u001b[0m\n\u001b[0m\u001b[1;32m     19\u001b[0m     \u001b[0mall_scores\u001b[0m\u001b[0;34m.\u001b[0m\u001b[0mappend\u001b[0m\u001b[0;34m(\u001b[0m\u001b[0mval_mae\u001b[0m\u001b[0;34m)\u001b[0m\u001b[0;34m\u001b[0m\u001b[0;34m\u001b[0m\u001b[0m\n\u001b[1;32m     20\u001b[0m \u001b[0;34m\u001b[0m\u001b[0m\n",
            "\u001b[0;31mNameError\u001b[0m: name 'x_train_test' is not defined"
          ]
        }
      ]
    },
    {
      "cell_type": "code",
      "metadata": {
        "id": "skATdOFOitc4",
        "colab_type": "code",
        "colab": {
          "base_uri": "https://localhost:8080/",
          "height": 123
        },
        "outputId": "b6d5d8df-3caf-45a4-e31b-2690278d9552"
      },
      "source": [
        "gird = np.array([[1, 2, 3], [4, 5, 6]])\n",
        "\n",
        "gird = np.array([[1, 2, 3], [4, 5, 6]])\n",
        "\n",
        "# np.concatenate([gird, gird], axis=1)\n",
        "print(np.concatenate([gird, gird], axis=1))\n",
        "print(np.concatenate([gird, gird], axis=0))"
      ],
      "execution_count": 48,
      "outputs": [
        {
          "output_type": "stream",
          "text": [
            "[[1 2 3 1 2 3]\n",
            " [4 5 6 4 5 6]]\n",
            "[[1 2 3]\n",
            " [4 5 6]\n",
            " [1 2 3]\n",
            " [4 5 6]]\n"
          ],
          "name": "stdout"
        }
      ]
    },
    {
      "cell_type": "code",
      "metadata": {
        "id": "gFo7MyuuumHy",
        "colab_type": "code",
        "colab": {
          "base_uri": "https://localhost:8080/",
          "height": 407
        },
        "outputId": "8a368af0-a9a6-4a5c-b561-fa0d2956cef2"
      },
      "source": [
        "import numpy as np\n",
        "from sklearn.model_selection import KFold\n",
        "# X = np.array([[1.2, 2,3], [3, 4,3], [1, 2,3], [3, 4,3],[5,6,3]])\n",
        "# print(X.shape)\n",
        "# print(X[0])\n",
        "# y = np.array([0, 0, 1, 1,5])\n",
        "# skf = StratifiedKFold(n_splits=2)\n",
        "# skf.get_n_splits(X, y)\n",
        "# 2\n",
        "\n",
        "print(y_train.shape)\n",
        "# # print(skf)  \n",
        "skf = KFold(n_splits=3)\n",
        "for train_index, test_index in skf.split(x_train,y_train):\n",
        "    print(\"TRAIN:\", train_index, \"TEST:\", test_index)\n",
        "    # x_train, x_test = X[train_index], X[test_index]\n",
        "    # y_train, y_test = y[train_index], y[test_index]\n",
        "\n",
        "\n",
        "# kf = KFold(n_splits=3) \n",
        "# for index_kf_train, index_kf_validation in kf.split(x_train):\n",
        "#     print('index_kf_train:', index_kf_train)\n",
        "#     print('index_kf_validation:', index_kf_validation)"
      ],
      "execution_count": 29,
      "outputs": [
        {
          "output_type": "stream",
          "text": [
            "(3,)\n"
          ],
          "name": "stdout"
        },
        {
          "output_type": "error",
          "ename": "ValueError",
          "evalue": "ignored",
          "traceback": [
            "\u001b[0;31m---------------------------------------------------------------------------\u001b[0m",
            "\u001b[0;31mValueError\u001b[0m                                Traceback (most recent call last)",
            "\u001b[0;32m<ipython-input-29-253b962f7ff2>\u001b[0m in \u001b[0;36m<module>\u001b[0;34m()\u001b[0m\n\u001b[1;32m     12\u001b[0m \u001b[0;31m# # print(skf)\u001b[0m\u001b[0;34m\u001b[0m\u001b[0;34m\u001b[0m\u001b[0;34m\u001b[0m\u001b[0m\n\u001b[1;32m     13\u001b[0m \u001b[0mskf\u001b[0m \u001b[0;34m=\u001b[0m \u001b[0mKFold\u001b[0m\u001b[0;34m(\u001b[0m\u001b[0mn_splits\u001b[0m\u001b[0;34m=\u001b[0m\u001b[0;36m3\u001b[0m\u001b[0;34m)\u001b[0m\u001b[0;34m\u001b[0m\u001b[0;34m\u001b[0m\u001b[0m\n\u001b[0;32m---> 14\u001b[0;31m \u001b[0;32mfor\u001b[0m \u001b[0mtrain_index\u001b[0m\u001b[0;34m,\u001b[0m \u001b[0mtest_index\u001b[0m \u001b[0;32min\u001b[0m \u001b[0mskf\u001b[0m\u001b[0;34m.\u001b[0m\u001b[0msplit\u001b[0m\u001b[0;34m(\u001b[0m\u001b[0mx_train\u001b[0m\u001b[0;34m,\u001b[0m\u001b[0my_train\u001b[0m\u001b[0;34m)\u001b[0m\u001b[0;34m:\u001b[0m\u001b[0;34m\u001b[0m\u001b[0;34m\u001b[0m\u001b[0m\n\u001b[0m\u001b[1;32m     15\u001b[0m     \u001b[0mprint\u001b[0m\u001b[0;34m(\u001b[0m\u001b[0;34m\"TRAIN:\"\u001b[0m\u001b[0;34m,\u001b[0m \u001b[0mtrain_index\u001b[0m\u001b[0;34m,\u001b[0m \u001b[0;34m\"TEST:\"\u001b[0m\u001b[0;34m,\u001b[0m \u001b[0mtest_index\u001b[0m\u001b[0;34m)\u001b[0m\u001b[0;34m\u001b[0m\u001b[0;34m\u001b[0m\u001b[0m\n\u001b[1;32m     16\u001b[0m     \u001b[0;31m# x_train, x_test = X[train_index], X[test_index]\u001b[0m\u001b[0;34m\u001b[0m\u001b[0;34m\u001b[0m\u001b[0;34m\u001b[0m\u001b[0m\n",
            "\u001b[0;32m/usr/local/lib/python3.6/dist-packages/sklearn/model_selection/_split.py\u001b[0m in \u001b[0;36msplit\u001b[0;34m(self, X, y, groups)\u001b[0m\n\u001b[1;32m    325\u001b[0m             \u001b[0mThe\u001b[0m \u001b[0mtesting\u001b[0m \u001b[0mset\u001b[0m \u001b[0mindices\u001b[0m \u001b[0;32mfor\u001b[0m \u001b[0mthat\u001b[0m \u001b[0msplit\u001b[0m\u001b[0;34m.\u001b[0m\u001b[0;34m\u001b[0m\u001b[0;34m\u001b[0m\u001b[0m\n\u001b[1;32m    326\u001b[0m         \"\"\"\n\u001b[0;32m--> 327\u001b[0;31m         \u001b[0mX\u001b[0m\u001b[0;34m,\u001b[0m \u001b[0my\u001b[0m\u001b[0;34m,\u001b[0m \u001b[0mgroups\u001b[0m \u001b[0;34m=\u001b[0m \u001b[0mindexable\u001b[0m\u001b[0;34m(\u001b[0m\u001b[0mX\u001b[0m\u001b[0;34m,\u001b[0m \u001b[0my\u001b[0m\u001b[0;34m,\u001b[0m \u001b[0mgroups\u001b[0m\u001b[0;34m)\u001b[0m\u001b[0;34m\u001b[0m\u001b[0;34m\u001b[0m\u001b[0m\n\u001b[0m\u001b[1;32m    328\u001b[0m         \u001b[0mn_samples\u001b[0m \u001b[0;34m=\u001b[0m \u001b[0m_num_samples\u001b[0m\u001b[0;34m(\u001b[0m\u001b[0mX\u001b[0m\u001b[0;34m)\u001b[0m\u001b[0;34m\u001b[0m\u001b[0;34m\u001b[0m\u001b[0m\n\u001b[1;32m    329\u001b[0m         \u001b[0;32mif\u001b[0m \u001b[0mself\u001b[0m\u001b[0;34m.\u001b[0m\u001b[0mn_splits\u001b[0m \u001b[0;34m>\u001b[0m \u001b[0mn_samples\u001b[0m\u001b[0;34m:\u001b[0m\u001b[0;34m\u001b[0m\u001b[0;34m\u001b[0m\u001b[0m\n",
            "\u001b[0;32m/usr/local/lib/python3.6/dist-packages/sklearn/utils/validation.py\u001b[0m in \u001b[0;36mindexable\u001b[0;34m(*iterables)\u001b[0m\n\u001b[1;32m    228\u001b[0m         \u001b[0;32melse\u001b[0m\u001b[0;34m:\u001b[0m\u001b[0;34m\u001b[0m\u001b[0;34m\u001b[0m\u001b[0m\n\u001b[1;32m    229\u001b[0m             \u001b[0mresult\u001b[0m\u001b[0;34m.\u001b[0m\u001b[0mappend\u001b[0m\u001b[0;34m(\u001b[0m\u001b[0mnp\u001b[0m\u001b[0;34m.\u001b[0m\u001b[0marray\u001b[0m\u001b[0;34m(\u001b[0m\u001b[0mX\u001b[0m\u001b[0;34m)\u001b[0m\u001b[0;34m)\u001b[0m\u001b[0;34m\u001b[0m\u001b[0;34m\u001b[0m\u001b[0m\n\u001b[0;32m--> 230\u001b[0;31m     \u001b[0mcheck_consistent_length\u001b[0m\u001b[0;34m(\u001b[0m\u001b[0;34m*\u001b[0m\u001b[0mresult\u001b[0m\u001b[0;34m)\u001b[0m\u001b[0;34m\u001b[0m\u001b[0;34m\u001b[0m\u001b[0m\n\u001b[0m\u001b[1;32m    231\u001b[0m     \u001b[0;32mreturn\u001b[0m \u001b[0mresult\u001b[0m\u001b[0;34m\u001b[0m\u001b[0;34m\u001b[0m\u001b[0m\n\u001b[1;32m    232\u001b[0m \u001b[0;34m\u001b[0m\u001b[0m\n",
            "\u001b[0;32m/usr/local/lib/python3.6/dist-packages/sklearn/utils/validation.py\u001b[0m in \u001b[0;36mcheck_consistent_length\u001b[0;34m(*arrays)\u001b[0m\n\u001b[1;32m    203\u001b[0m     \u001b[0;32mif\u001b[0m \u001b[0mlen\u001b[0m\u001b[0;34m(\u001b[0m\u001b[0muniques\u001b[0m\u001b[0;34m)\u001b[0m \u001b[0;34m>\u001b[0m \u001b[0;36m1\u001b[0m\u001b[0;34m:\u001b[0m\u001b[0;34m\u001b[0m\u001b[0;34m\u001b[0m\u001b[0m\n\u001b[1;32m    204\u001b[0m         raise ValueError(\"Found input variables with inconsistent numbers of\"\n\u001b[0;32m--> 205\u001b[0;31m                          \" samples: %r\" % [int(l) for l in lengths])\n\u001b[0m\u001b[1;32m    206\u001b[0m \u001b[0;34m\u001b[0m\u001b[0m\n\u001b[1;32m    207\u001b[0m \u001b[0;34m\u001b[0m\u001b[0m\n",
            "\u001b[0;31mValueError\u001b[0m: Found input variables with inconsistent numbers of samples: [404, 3]"
          ]
        }
      ]
    },
    {
      "cell_type": "code",
      "metadata": {
        "id": "xEAzZ7dvxNuM",
        "colab_type": "code",
        "colab": {}
      },
      "source": [
        ""
      ],
      "execution_count": 0,
      "outputs": []
    }
  ]
}