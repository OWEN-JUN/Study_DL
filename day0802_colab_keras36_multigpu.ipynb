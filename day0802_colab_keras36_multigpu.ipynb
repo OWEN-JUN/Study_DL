{
  "nbformat": 4,
  "nbformat_minor": 0,
  "metadata": {
    "colab": {
      "name": "day0802_colab_keras36_multigpu.ipynb",
      "version": "0.3.2",
      "provenance": [],
      "collapsed_sections": [],
      "include_colab_link": true
    },
    "kernelspec": {
      "name": "python3",
      "display_name": "Python 3"
    }
  },
  "cells": [
    {
      "cell_type": "markdown",
      "metadata": {
        "id": "view-in-github",
        "colab_type": "text"
      },
      "source": [
        "<a href=\"https://colab.research.google.com/github/OWEN-JUN/keras_/blob/master/day0802_colab_keras36_multigpu.ipynb\" target=\"_parent\"><img src=\"https://colab.research.google.com/assets/colab-badge.svg\" alt=\"Open In Colab\"/></a>"
      ]
    },
    {
      "cell_type": "code",
      "metadata": {
        "id": "ub5-E9aJGv0o",
        "colab_type": "code",
        "colab": {}
      },
      "source": [
        "from keras.models import Model\n",
        "from keras.utils import multi_gpu_model"
      ],
      "execution_count": 0,
      "outputs": []
    },
    {
      "cell_type": "code",
      "metadata": {
        "id": "5m_VZvCqGzpo",
        "colab_type": "code",
        "colab": {
          "base_uri": "https://localhost:8080/",
          "height": 241
        },
        "outputId": "e96e9382-b6b0-48b7-e4d7-1095f7d608de"
      },
      "source": [
        "model = Model(inputs=inputs, outputs=output)\n",
        "model = multi_gpu_model(model, num_gpu)\n",
        "\n",
        "def build_network(num_gpu1, input_shape=None):\n",
        "    inputs = input(shape=input_shape, name=\"input\")\n",
        "\n",
        "    conv1 = Conv2D(4, kernel_size=(3,3), activation=\"relu\", name=\"conv_1\")(inputs)\n",
        "    batch1 = BatchNormalization(name=\"batch_norm_1\")(conv1)\n",
        "    pool1 = MaxPooling2D(pool_size=(2,2), name=\"pool_1\")(batch1)\n",
        "\n",
        "    conv2 = Conv2D(32, kernel_size=(3,3), activation=\"relu\", name=\"conv_2\")(pool1)\n",
        "    batch2 = BatchNormalization(name=\"batch_norm_2\")(conv2)\n",
        "    pool2= MaxPooling2D(pool_size=(2,2), name=\"pool_2\")(batch2)\n",
        "\n",
        "    flatten = Flatten()(pool2)\n",
        "    fc1 = Dense(512, activation=\"relu\", name=\"fc1\")(flatten)\n",
        "    d1 = Dropout(0.2,name=\"dropout1\")(fc1)\n",
        "    fc2 = Dense(512, activation=\"relu\", name=\"fc2\")(flatten)\n",
        "    d2 = Dropout(0.2,name=\"dropout1\")(fc2)\n",
        "\n",
        "    output= Dense(10, activation=\"softmax\", name=\"softmax\")(d2)\n",
        "\n",
        "    model = Model(input=inputs, output = outputs)\n",
        "    if num_gpu > 1:\n",
        "        model = multi_gpu_model1(model, num_gpu)\n",
        "        model.compile(optimizer=\"adam\", loss=\"categorical_crossentropy\", metrics=[\"accuracy\"])\n",
        "    return model\n",
        "\n",
        "model = build_network(num_gpu=1, input_shape=(IMG_HEIGHT, IMG_WIDTH, CHANNELS))\n",
        "\n",
        "model.fit(x_train, y_train, batch_size=32, epochs=200, validation_data=(val_x, val_y), verbose=1, callbacks=callbacks )\n"
      ],
      "execution_count": 4,
      "outputs": [
        {
          "output_type": "error",
          "ename": "NameError",
          "evalue": "ignored",
          "traceback": [
            "\u001b[0;31m---------------------------------------------------------------------------\u001b[0m",
            "\u001b[0;31mNameError\u001b[0m                                 Traceback (most recent call last)",
            "\u001b[0;32m<ipython-input-4-0bb4c107af1c>\u001b[0m in \u001b[0;36m<module>\u001b[0;34m()\u001b[0m\n\u001b[0;32m----> 1\u001b[0;31m \u001b[0mmodel\u001b[0m \u001b[0;34m=\u001b[0m \u001b[0mModel\u001b[0m\u001b[0;34m(\u001b[0m\u001b[0minputs\u001b[0m\u001b[0;34m=\u001b[0m\u001b[0minputs\u001b[0m\u001b[0;34m,\u001b[0m \u001b[0moutputs\u001b[0m\u001b[0;34m=\u001b[0m\u001b[0moutput\u001b[0m\u001b[0;34m)\u001b[0m\u001b[0;34m\u001b[0m\u001b[0;34m\u001b[0m\u001b[0m\n\u001b[0m\u001b[1;32m      2\u001b[0m \u001b[0mmodel\u001b[0m \u001b[0;34m=\u001b[0m \u001b[0mmulti_gpu_model\u001b[0m\u001b[0;34m(\u001b[0m\u001b[0mmodel\u001b[0m\u001b[0;34m,\u001b[0m \u001b[0mnum_gpu\u001b[0m\u001b[0;34m)\u001b[0m\u001b[0;34m\u001b[0m\u001b[0;34m\u001b[0m\u001b[0m\n\u001b[1;32m      3\u001b[0m \u001b[0;34m\u001b[0m\u001b[0m\n\u001b[1;32m      4\u001b[0m \u001b[0;32mdef\u001b[0m \u001b[0mbuild_network\u001b[0m\u001b[0;34m(\u001b[0m\u001b[0mnum_gpu1\u001b[0m\u001b[0;34m,\u001b[0m \u001b[0minput_shape\u001b[0m\u001b[0;34m=\u001b[0m\u001b[0;32mNone\u001b[0m\u001b[0;34m)\u001b[0m\u001b[0;34m:\u001b[0m\u001b[0;34m\u001b[0m\u001b[0;34m\u001b[0m\u001b[0m\n\u001b[1;32m      5\u001b[0m     \u001b[0minputs\u001b[0m \u001b[0;34m=\u001b[0m \u001b[0minput\u001b[0m\u001b[0;34m(\u001b[0m\u001b[0mshape\u001b[0m\u001b[0;34m=\u001b[0m\u001b[0minput_shape\u001b[0m\u001b[0;34m,\u001b[0m \u001b[0mname\u001b[0m\u001b[0;34m=\u001b[0m\u001b[0;34m\"input\"\u001b[0m\u001b[0;34m)\u001b[0m\u001b[0;34m\u001b[0m\u001b[0;34m\u001b[0m\u001b[0m\n",
            "\u001b[0;31mNameError\u001b[0m: name 'inputs' is not defined"
          ]
        }
      ]
    },
    {
      "cell_type": "code",
      "metadata": {
        "id": "QAgHNT0fHCNR",
        "colab_type": "code",
        "colab": {}
      },
      "source": [
        ""
      ],
      "execution_count": 0,
      "outputs": []
    }
  ]
}