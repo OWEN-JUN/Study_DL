{
  "nbformat": 4,
  "nbformat_minor": 0,
  "metadata": {
    "colab": {
      "name": "keras32_homework1.ipynb",
      "version": "0.3.2",
      "provenance": [],
      "include_colab_link": true
    },
    "kernelspec": {
      "name": "python3",
      "display_name": "Python 3"
    },
    "accelerator": "GPU"
  },
  "cells": [
    {
      "cell_type": "markdown",
      "metadata": {
        "id": "view-in-github",
        "colab_type": "text"
      },
      "source": [
        "<a href=\"https://colab.research.google.com/github/OWEN-JUN/keras_/blob/master/keras32_homework1.ipynb\" target=\"_parent\"><img src=\"https://colab.research.google.com/assets/colab-badge.svg\" alt=\"Open In Colab\"/></a>"
      ]
    },
    {
      "cell_type": "code",
      "metadata": {
        "id": "rXz-Q0y2IvV7",
        "colab_type": "code",
        "colab": {}
      },
      "source": [
        "from keras.models import *\n",
        "from keras.layers import Dense, LSTM, Dropout, Input, Conv2D, Flatten, MaxPooling2D\n",
        "from keras.utils import np_utils\n",
        "import numpy as np\n",
        "from keras.datasets import mnist"
      ],
      "execution_count": 0,
      "outputs": []
    },
    {
      "cell_type": "code",
      "metadata": {
        "id": "FLkcSDAYOTra",
        "colab_type": "code",
        "colab": {}
      },
      "source": [
        "(x_train, y_train),(x_test, y_test) = mnist.load_data()"
      ],
      "execution_count": 0,
      "outputs": []
    },
    {
      "cell_type": "code",
      "metadata": {
        "id": "PvjeM1PJO26R",
        "colab_type": "code",
        "colab": {
          "base_uri": "https://localhost:8080/",
          "height": 54
        },
        "outputId": "95b819e1-4684-400c-d352-f3ccc30fca11"
      },
      "source": [
        "x_train = x_train.reshape(x_train.shape[0],28*28).astype(\"float32\")/255\n",
        "\n",
        "x_test = x_test.reshape(x_test.shape[0],28*28).astype(\"float32\")/255\n",
        "print(y_train.shape)\n",
        "y_train= np_utils.to_categorical(y_train)\n",
        "\n",
        "y_test= np_utils.to_categorical(y_test)\n",
        "print(y_train.shape)"
      ],
      "execution_count": 3,
      "outputs": [
        {
          "output_type": "stream",
          "text": [
            "(60000,)\n",
            "(60000, 10)\n"
          ],
          "name": "stdout"
        }
      ]
    },
    {
      "cell_type": "code",
      "metadata": {
        "id": "wo6tz4k9XHuN",
        "colab_type": "code",
        "colab": {
          "base_uri": "https://localhost:8080/",
          "height": 54
        },
        "outputId": "a748fd53-4b17-45d8-b8ca-1ae85222d117"
      },
      "source": [
        "x_train = x_train.reshape(x_train.shape[0],28,28,1).astype(\"float32\")/255\n",
        "\n",
        "x_test = x_test.reshape(x_test.shape[0],28,28,1).astype(\"float32\")/255\n",
        "print(y_train.shape)\n",
        "y_train= np_utils.to_categorical(y_train)\n",
        "\n",
        "y_test= np_utils.to_categorical(y_test)\n",
        "print(y_train.shape)"
      ],
      "execution_count": 13,
      "outputs": [
        {
          "output_type": "stream",
          "text": [
            "(60000,)\n",
            "(60000, 10)\n"
          ],
          "name": "stdout"
        }
      ]
    },
    {
      "cell_type": "code",
      "metadata": {
        "id": "3af83p8mI98Q",
        "colab_type": "code",
        "colab": {}
      },
      "source": [
        "def build_network(keep_prob=0.5, optimizer=\"adam\"):\n",
        "    inputs = Input(shape=(784,), name=\"input\")\n",
        "    x = Dense(256, activation=\"relu\", name=\"hidden1\")(inputs)\n",
        "    x = Dropout(keep_prob)(x)\n",
        "    x2 = Dense(256, activation=\"relu\", name=\"hidden2\")(x)\n",
        "    x2 = Dropout(keep_prob)(x2)\n",
        "    x4 = Dense(128, activation=\"relu\", name=\"hidden3\")(x2)\n",
        "    x4 = Dropout(keep_prob)(x4)\n",
        "    prediction = Dense(10, activation=\"softmax\", name=\"output\")(x4)\n",
        "    model = Model(input = inputs, outputs=prediction)\n",
        "    model.compile(optimizer = optimizer, loss=\"categorical_crossentropy\", metrics=[\"accuracy\"])\n",
        "    return model\n",
        "    "
      ],
      "execution_count": 0,
      "outputs": []
    },
    {
      "cell_type": "code",
      "metadata": {
        "id": "gh6vTi_fVg1j",
        "colab_type": "code",
        "colab": {}
      },
      "source": [
        "def build_network_cnn(keep_prob=0.5, optimizer=\"adam\"):\n",
        "    inputs = Input(shape=(28,28,1), name=\"input\")\n",
        "    x = Conv2D(32,kernel_size=(3,3),activation=\"relu\")(inputs)\n",
        "    x = Dropout(keep_prob)(x)\n",
        "    x = Conv2D(64,(3,3),activation=\"relu\")(x)\n",
        "    x = MaxPooling2D(pool_size=2)(x)\n",
        "    x = Dropout(keep_prob)(x)\n",
        "    x = Flatten()(x)\n",
        "    x = Dense(256, activation=\"relu\", name=\"hidden2\")(x)\n",
        "    x = Dropout(keep_prob)(x)\n",
        "    x = Dense(128, activation=\"relu\", name=\"hidden3\")(x)\n",
        "    x = Dropout(keep_prob)(x)\n",
        "    prediction = Dense(10, activation=\"softmax\", name=\"output\")(x)\n",
        "    model = Model(input = inputs, outputs=prediction)\n",
        "    model.compile(optimizer = optimizer, loss=\"categorical_crossentropy\", metrics=[\"accuracy\"])\n",
        "    return model\n",
        "    "
      ],
      "execution_count": 0,
      "outputs": []
    },
    {
      "cell_type": "code",
      "metadata": {
        "id": "PmxFLiVdJ13h",
        "colab_type": "code",
        "colab": {
          "base_uri": "https://localhost:8080/",
          "height": 1000
        },
        "outputId": "9ad4bf96-f5eb-4114-dc50-bf8a960438a2"
      },
      "source": [
        "def create_hyperparameters():\n",
        "    batches=[10,20,30,40,50]\n",
        "    optimizers = [\"rmsprop\", \"adam\", \"adadelta\"]\n",
        "    dropout = np.linspace(0.1,0.5, 5)\n",
        "   \n",
        "    return{\"batch_size\":batches, \"optimizer\":optimizers,\"keep_prob\":dropout}\n",
        "\n",
        "from keras.wrappers.scikit_learn import KerasClassifier\n",
        "model = KerasClassifier(build_fn = build_network_cnn, verbose=1)\n",
        "\n",
        "hyperparameters=create_hyperparameters()\n",
        "\n",
        "from sklearn.model_selection import RandomizedSearchCV\n",
        "search=RandomizedSearchCV(estimator=model, param_distributions=hyperparameters, n_iter=10, n_jobs=1, cv=3, verbose=1)\n",
        "\n",
        "search.fit(x_train, y_train)\n",
        "print(search.best_params_)"
      ],
      "execution_count": 23,
      "outputs": [
        {
          "output_type": "stream",
          "text": [
            "[Parallel(n_jobs=1)]: Using backend SequentialBackend with 1 concurrent workers.\n",
            "W0801 08:53:49.164603 140571420673920 deprecation_wrapper.py:119] From /usr/local/lib/python3.6/dist-packages/keras/backend/tensorflow_backend.py:3976: The name tf.nn.max_pool is deprecated. Please use tf.nn.max_pool2d instead.\n",
            "\n"
          ],
          "name": "stderr"
        },
        {
          "output_type": "stream",
          "text": [
            "Fitting 3 folds for each of 10 candidates, totalling 30 fits\n"
          ],
          "name": "stdout"
        },
        {
          "output_type": "stream",
          "text": [
            "/usr/local/lib/python3.6/dist-packages/ipykernel_launcher.py:14: UserWarning: Update your `Model` call to the Keras 2 API: `Model(outputs=Tensor(\"ou..., inputs=Tensor(\"in...)`\n",
            "  \n"
          ],
          "name": "stderr"
        },
        {
          "output_type": "stream",
          "text": [
            "Epoch 1/1\n",
            "40000/40000 [==============================] - 73s 2ms/step - loss: 0.2511 - acc: 0.9232\n",
            "20000/20000 [==============================] - 13s 651us/step\n"
          ],
          "name": "stdout"
        },
        {
          "output_type": "stream",
          "text": [
            "/usr/local/lib/python3.6/dist-packages/ipykernel_launcher.py:14: UserWarning: Update your `Model` call to the Keras 2 API: `Model(outputs=Tensor(\"ou..., inputs=Tensor(\"in...)`\n",
            "  \n"
          ],
          "name": "stderr"
        },
        {
          "output_type": "stream",
          "text": [
            "Epoch 1/1\n",
            "40000/40000 [==============================] - 71s 2ms/step - loss: 0.2614 - acc: 0.9214\n",
            "20000/20000 [==============================] - 13s 627us/step\n"
          ],
          "name": "stdout"
        },
        {
          "output_type": "stream",
          "text": [
            "/usr/local/lib/python3.6/dist-packages/ipykernel_launcher.py:14: UserWarning: Update your `Model` call to the Keras 2 API: `Model(outputs=Tensor(\"ou..., inputs=Tensor(\"in...)`\n",
            "  \n"
          ],
          "name": "stderr"
        },
        {
          "output_type": "stream",
          "text": [
            "Epoch 1/1\n",
            "40000/40000 [==============================] - 69s 2ms/step - loss: 0.2572 - acc: 0.9219\n",
            "20000/20000 [==============================] - 12s 620us/step\n"
          ],
          "name": "stdout"
        },
        {
          "output_type": "stream",
          "text": [
            "/usr/local/lib/python3.6/dist-packages/ipykernel_launcher.py:14: UserWarning: Update your `Model` call to the Keras 2 API: `Model(outputs=Tensor(\"ou..., inputs=Tensor(\"in...)`\n",
            "  \n"
          ],
          "name": "stderr"
        },
        {
          "output_type": "stream",
          "text": [
            "Epoch 1/1\n",
            "40000/40000 [==============================] - 28s 712us/step - loss: 0.2289 - acc: 0.9308\n",
            "20000/20000 [==============================] - 7s 341us/step\n"
          ],
          "name": "stdout"
        },
        {
          "output_type": "stream",
          "text": [
            "/usr/local/lib/python3.6/dist-packages/ipykernel_launcher.py:14: UserWarning: Update your `Model` call to the Keras 2 API: `Model(outputs=Tensor(\"ou..., inputs=Tensor(\"in...)`\n",
            "  \n"
          ],
          "name": "stderr"
        },
        {
          "output_type": "stream",
          "text": [
            "Epoch 1/1\n",
            "40000/40000 [==============================] - 28s 706us/step - loss: 0.2198 - acc: 0.9324\n",
            "20000/20000 [==============================] - 7s 351us/step\n"
          ],
          "name": "stdout"
        },
        {
          "output_type": "stream",
          "text": [
            "/usr/local/lib/python3.6/dist-packages/ipykernel_launcher.py:14: UserWarning: Update your `Model` call to the Keras 2 API: `Model(outputs=Tensor(\"ou..., inputs=Tensor(\"in...)`\n",
            "  \n"
          ],
          "name": "stderr"
        },
        {
          "output_type": "stream",
          "text": [
            "Epoch 1/1\n",
            "40000/40000 [==============================] - 30s 746us/step - loss: 0.2240 - acc: 0.9316\n",
            "20000/20000 [==============================] - 7s 362us/step\n"
          ],
          "name": "stdout"
        },
        {
          "output_type": "stream",
          "text": [
            "/usr/local/lib/python3.6/dist-packages/ipykernel_launcher.py:14: UserWarning: Update your `Model` call to the Keras 2 API: `Model(outputs=Tensor(\"ou..., inputs=Tensor(\"in...)`\n",
            "  \n"
          ],
          "name": "stderr"
        },
        {
          "output_type": "stream",
          "text": [
            "Epoch 1/1\n",
            "40000/40000 [==============================] - 25s 620us/step - loss: 0.3218 - acc: 0.9004\n",
            "20000/20000 [==============================] - 6s 289us/step\n"
          ],
          "name": "stdout"
        },
        {
          "output_type": "stream",
          "text": [
            "/usr/local/lib/python3.6/dist-packages/ipykernel_launcher.py:14: UserWarning: Update your `Model` call to the Keras 2 API: `Model(outputs=Tensor(\"ou..., inputs=Tensor(\"in...)`\n",
            "  \n"
          ],
          "name": "stderr"
        },
        {
          "output_type": "stream",
          "text": [
            "Epoch 1/1\n",
            "40000/40000 [==============================] - 23s 578us/step - loss: 0.3307 - acc: 0.8971\n",
            "20000/20000 [==============================] - 6s 298us/step\n"
          ],
          "name": "stdout"
        },
        {
          "output_type": "stream",
          "text": [
            "/usr/local/lib/python3.6/dist-packages/ipykernel_launcher.py:14: UserWarning: Update your `Model` call to the Keras 2 API: `Model(outputs=Tensor(\"ou..., inputs=Tensor(\"in...)`\n",
            "  \n"
          ],
          "name": "stderr"
        },
        {
          "output_type": "stream",
          "text": [
            "Epoch 1/1\n",
            "40000/40000 [==============================] - 26s 651us/step - loss: 0.3371 - acc: 0.8949\n",
            "20000/20000 [==============================] - 7s 332us/step\n"
          ],
          "name": "stdout"
        },
        {
          "output_type": "stream",
          "text": [
            "/usr/local/lib/python3.6/dist-packages/ipykernel_launcher.py:14: UserWarning: Update your `Model` call to the Keras 2 API: `Model(outputs=Tensor(\"ou..., inputs=Tensor(\"in...)`\n",
            "  \n"
          ],
          "name": "stderr"
        },
        {
          "output_type": "stream",
          "text": [
            "Epoch 1/1\n",
            "40000/40000 [==============================] - 28s 711us/step - loss: 0.2591 - acc: 0.9192\n",
            "20000/20000 [==============================] - 7s 344us/step\n"
          ],
          "name": "stdout"
        },
        {
          "output_type": "stream",
          "text": [
            "/usr/local/lib/python3.6/dist-packages/ipykernel_launcher.py:14: UserWarning: Update your `Model` call to the Keras 2 API: `Model(outputs=Tensor(\"ou..., inputs=Tensor(\"in...)`\n",
            "  \n"
          ],
          "name": "stderr"
        },
        {
          "output_type": "stream",
          "text": [
            "Epoch 1/1\n",
            "40000/40000 [==============================] - 27s 685us/step - loss: 0.2421 - acc: 0.9258\n",
            "20000/20000 [==============================] - 7s 347us/step\n"
          ],
          "name": "stdout"
        },
        {
          "output_type": "stream",
          "text": [
            "/usr/local/lib/python3.6/dist-packages/ipykernel_launcher.py:14: UserWarning: Update your `Model` call to the Keras 2 API: `Model(outputs=Tensor(\"ou..., inputs=Tensor(\"in...)`\n",
            "  \n"
          ],
          "name": "stderr"
        },
        {
          "output_type": "stream",
          "text": [
            "Epoch 1/1\n",
            "40000/40000 [==============================] - 28s 710us/step - loss: 0.2625 - acc: 0.9184\n",
            "20000/20000 [==============================] - 7s 352us/step\n"
          ],
          "name": "stdout"
        },
        {
          "output_type": "stream",
          "text": [
            "/usr/local/lib/python3.6/dist-packages/ipykernel_launcher.py:14: UserWarning: Update your `Model` call to the Keras 2 API: `Model(outputs=Tensor(\"ou..., inputs=Tensor(\"in...)`\n",
            "  \n"
          ],
          "name": "stderr"
        },
        {
          "output_type": "stream",
          "text": [
            "Epoch 1/1\n",
            "40000/40000 [==============================] - 42s 1ms/step - loss: 0.2911 - acc: 0.9102\n",
            "20000/20000 [==============================] - 9s 465us/step\n"
          ],
          "name": "stdout"
        },
        {
          "output_type": "stream",
          "text": [
            "/usr/local/lib/python3.6/dist-packages/ipykernel_launcher.py:14: UserWarning: Update your `Model` call to the Keras 2 API: `Model(outputs=Tensor(\"ou..., inputs=Tensor(\"in...)`\n",
            "  \n"
          ],
          "name": "stderr"
        },
        {
          "output_type": "stream",
          "text": [
            "Epoch 1/1\n",
            "40000/40000 [==============================] - 42s 1ms/step - loss: 0.2818 - acc: 0.9137\n",
            "20000/20000 [==============================] - 10s 475us/step\n"
          ],
          "name": "stdout"
        },
        {
          "output_type": "stream",
          "text": [
            "/usr/local/lib/python3.6/dist-packages/ipykernel_launcher.py:14: UserWarning: Update your `Model` call to the Keras 2 API: `Model(outputs=Tensor(\"ou..., inputs=Tensor(\"in...)`\n",
            "  \n"
          ],
          "name": "stderr"
        },
        {
          "output_type": "stream",
          "text": [
            "Epoch 1/1\n",
            "40000/40000 [==============================] - 43s 1ms/step - loss: 0.2948 - acc: 0.9096\n",
            "20000/20000 [==============================] - 10s 475us/step\n"
          ],
          "name": "stdout"
        },
        {
          "output_type": "stream",
          "text": [
            "/usr/local/lib/python3.6/dist-packages/ipykernel_launcher.py:14: UserWarning: Update your `Model` call to the Keras 2 API: `Model(outputs=Tensor(\"ou..., inputs=Tensor(\"in...)`\n",
            "  \n"
          ],
          "name": "stderr"
        },
        {
          "output_type": "stream",
          "text": [
            "Epoch 1/1\n",
            "40000/40000 [==============================] - 41s 1ms/step - loss: 0.2630 - acc: 0.9194\n",
            "20000/20000 [==============================] - 10s 521us/step\n"
          ],
          "name": "stdout"
        },
        {
          "output_type": "stream",
          "text": [
            "/usr/local/lib/python3.6/dist-packages/ipykernel_launcher.py:14: UserWarning: Update your `Model` call to the Keras 2 API: `Model(outputs=Tensor(\"ou..., inputs=Tensor(\"in...)`\n",
            "  \n"
          ],
          "name": "stderr"
        },
        {
          "output_type": "stream",
          "text": [
            "Epoch 1/1\n",
            "40000/40000 [==============================] - 42s 1ms/step - loss: 0.2700 - acc: 0.9195\n",
            "20000/20000 [==============================] - 10s 513us/step\n"
          ],
          "name": "stdout"
        },
        {
          "output_type": "stream",
          "text": [
            "/usr/local/lib/python3.6/dist-packages/ipykernel_launcher.py:14: UserWarning: Update your `Model` call to the Keras 2 API: `Model(outputs=Tensor(\"ou..., inputs=Tensor(\"in...)`\n",
            "  \n"
          ],
          "name": "stderr"
        },
        {
          "output_type": "stream",
          "text": [
            "Epoch 1/1\n",
            "40000/40000 [==============================] - 42s 1ms/step - loss: 0.2745 - acc: 0.9177\n",
            "20000/20000 [==============================] - 10s 501us/step\n"
          ],
          "name": "stdout"
        },
        {
          "output_type": "stream",
          "text": [
            "/usr/local/lib/python3.6/dist-packages/ipykernel_launcher.py:14: UserWarning: Update your `Model` call to the Keras 2 API: `Model(outputs=Tensor(\"ou..., inputs=Tensor(\"in...)`\n",
            "  \n"
          ],
          "name": "stderr"
        },
        {
          "output_type": "stream",
          "text": [
            "Epoch 1/1\n",
            "40000/40000 [==============================] - 67s 2ms/step - loss: 0.3651 - acc: 0.8905\n",
            "20000/20000 [==============================] - 14s 696us/step\n"
          ],
          "name": "stdout"
        },
        {
          "output_type": "stream",
          "text": [
            "/usr/local/lib/python3.6/dist-packages/ipykernel_launcher.py:14: UserWarning: Update your `Model` call to the Keras 2 API: `Model(outputs=Tensor(\"ou..., inputs=Tensor(\"in...)`\n",
            "  \n"
          ],
          "name": "stderr"
        },
        {
          "output_type": "stream",
          "text": [
            "Epoch 1/1\n",
            "40000/40000 [==============================] - 67s 2ms/step - loss: 0.3714 - acc: 0.8895\n",
            "20000/20000 [==============================] - 15s 727us/step\n"
          ],
          "name": "stdout"
        },
        {
          "output_type": "stream",
          "text": [
            "/usr/local/lib/python3.6/dist-packages/ipykernel_launcher.py:14: UserWarning: Update your `Model` call to the Keras 2 API: `Model(outputs=Tensor(\"ou..., inputs=Tensor(\"in...)`\n",
            "  \n"
          ],
          "name": "stderr"
        },
        {
          "output_type": "stream",
          "text": [
            "Epoch 1/1\n",
            "40000/40000 [==============================] - 68s 2ms/step - loss: 0.3741 - acc: 0.8901\n",
            "20000/20000 [==============================] - 15s 753us/step\n"
          ],
          "name": "stdout"
        },
        {
          "output_type": "stream",
          "text": [
            "/usr/local/lib/python3.6/dist-packages/ipykernel_launcher.py:14: UserWarning: Update your `Model` call to the Keras 2 API: `Model(outputs=Tensor(\"ou..., inputs=Tensor(\"in...)`\n",
            "  \n"
          ],
          "name": "stderr"
        },
        {
          "output_type": "stream",
          "text": [
            "Epoch 1/1\n",
            "40000/40000 [==============================] - 72s 2ms/step - loss: 0.3530 - acc: 0.8931\n",
            "20000/20000 [==============================] - 14s 715us/step\n"
          ],
          "name": "stdout"
        },
        {
          "output_type": "stream",
          "text": [
            "/usr/local/lib/python3.6/dist-packages/ipykernel_launcher.py:14: UserWarning: Update your `Model` call to the Keras 2 API: `Model(outputs=Tensor(\"ou..., inputs=Tensor(\"in...)`\n",
            "  \n"
          ],
          "name": "stderr"
        },
        {
          "output_type": "stream",
          "text": [
            "Epoch 1/1\n",
            "40000/40000 [==============================] - 70s 2ms/step - loss: 0.3636 - acc: 0.8900\n",
            "20000/20000 [==============================] - 15s 746us/step\n"
          ],
          "name": "stdout"
        },
        {
          "output_type": "stream",
          "text": [
            "/usr/local/lib/python3.6/dist-packages/ipykernel_launcher.py:14: UserWarning: Update your `Model` call to the Keras 2 API: `Model(outputs=Tensor(\"ou..., inputs=Tensor(\"in...)`\n",
            "  \n"
          ],
          "name": "stderr"
        },
        {
          "output_type": "stream",
          "text": [
            "Epoch 1/1\n",
            "40000/40000 [==============================] - 73s 2ms/step - loss: 0.3653 - acc: 0.8894\n",
            "20000/20000 [==============================] - 15s 733us/step\n"
          ],
          "name": "stdout"
        },
        {
          "output_type": "stream",
          "text": [
            "/usr/local/lib/python3.6/dist-packages/ipykernel_launcher.py:14: UserWarning: Update your `Model` call to the Keras 2 API: `Model(outputs=Tensor(\"ou..., inputs=Tensor(\"in...)`\n",
            "  \n"
          ],
          "name": "stderr"
        },
        {
          "output_type": "stream",
          "text": [
            "Epoch 1/1\n",
            "40000/40000 [==============================] - 27s 680us/step - loss: 0.2090 - acc: 0.9350\n",
            "20000/20000 [==============================] - 8s 376us/step\n"
          ],
          "name": "stdout"
        },
        {
          "output_type": "stream",
          "text": [
            "/usr/local/lib/python3.6/dist-packages/ipykernel_launcher.py:14: UserWarning: Update your `Model` call to the Keras 2 API: `Model(outputs=Tensor(\"ou..., inputs=Tensor(\"in...)`\n",
            "  \n"
          ],
          "name": "stderr"
        },
        {
          "output_type": "stream",
          "text": [
            "Epoch 1/1\n",
            "40000/40000 [==============================] - 29s 719us/step - loss: 0.2073 - acc: 0.9371\n",
            "20000/20000 [==============================] - 7s 375us/step\n"
          ],
          "name": "stdout"
        },
        {
          "output_type": "stream",
          "text": [
            "/usr/local/lib/python3.6/dist-packages/ipykernel_launcher.py:14: UserWarning: Update your `Model` call to the Keras 2 API: `Model(outputs=Tensor(\"ou..., inputs=Tensor(\"in...)`\n",
            "  \n"
          ],
          "name": "stderr"
        },
        {
          "output_type": "stream",
          "text": [
            "Epoch 1/1\n",
            "40000/40000 [==============================] - 29s 726us/step - loss: 0.2092 - acc: 0.9343\n",
            "20000/20000 [==============================] - 8s 376us/step\n"
          ],
          "name": "stdout"
        },
        {
          "output_type": "stream",
          "text": [
            "/usr/local/lib/python3.6/dist-packages/ipykernel_launcher.py:14: UserWarning: Update your `Model` call to the Keras 2 API: `Model(outputs=Tensor(\"ou..., inputs=Tensor(\"in...)`\n",
            "  \n"
          ],
          "name": "stderr"
        },
        {
          "output_type": "stream",
          "text": [
            "Epoch 1/1\n",
            "40000/40000 [==============================] - 28s 692us/step - loss: 0.2555 - acc: 0.9224\n",
            "20000/20000 [==============================] - 7s 366us/step\n"
          ],
          "name": "stdout"
        },
        {
          "output_type": "stream",
          "text": [
            "/usr/local/lib/python3.6/dist-packages/ipykernel_launcher.py:14: UserWarning: Update your `Model` call to the Keras 2 API: `Model(outputs=Tensor(\"ou..., inputs=Tensor(\"in...)`\n",
            "  \n"
          ],
          "name": "stderr"
        },
        {
          "output_type": "stream",
          "text": [
            "Epoch 1/1\n",
            "40000/40000 [==============================] - 27s 674us/step - loss: 0.2311 - acc: 0.9301\n",
            "20000/20000 [==============================] - 8s 389us/step\n"
          ],
          "name": "stdout"
        },
        {
          "output_type": "stream",
          "text": [
            "/usr/local/lib/python3.6/dist-packages/ipykernel_launcher.py:14: UserWarning: Update your `Model` call to the Keras 2 API: `Model(outputs=Tensor(\"ou..., inputs=Tensor(\"in...)`\n",
            "  \n"
          ],
          "name": "stderr"
        },
        {
          "output_type": "stream",
          "text": [
            "Epoch 1/1\n",
            "40000/40000 [==============================] - 28s 709us/step - loss: 0.2425 - acc: 0.9268\n",
            "20000/20000 [==============================] - 8s 390us/step\n"
          ],
          "name": "stdout"
        },
        {
          "output_type": "stream",
          "text": [
            "[Parallel(n_jobs=1)]: Done  30 out of  30 | elapsed: 26.9min finished\n",
            "/usr/local/lib/python3.6/dist-packages/ipykernel_launcher.py:14: UserWarning: Update your `Model` call to the Keras 2 API: `Model(outputs=Tensor(\"ou..., inputs=Tensor(\"in...)`\n",
            "  \n"
          ],
          "name": "stderr"
        },
        {
          "output_type": "stream",
          "text": [
            "Epoch 1/1\n",
            "60000/60000 [==============================] - 39s 643us/step - loss: 0.1618 - acc: 0.9506\n",
            "{'optimizer': 'adam', 'keep_prob': 0.2, 'batch_size': 50}\n"
          ],
          "name": "stdout"
        }
      ]
    },
    {
      "cell_type": "code",
      "metadata": {
        "id": "dTBgae3WLT8E",
        "colab_type": "code",
        "colab": {}
      },
      "source": [
        ""
      ],
      "execution_count": 0,
      "outputs": []
    }
  ]
}