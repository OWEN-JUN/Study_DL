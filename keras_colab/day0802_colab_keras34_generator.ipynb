{
  "nbformat": 4,
  "nbformat_minor": 0,
  "metadata": {
    "colab": {
      "name": "day0802_colab_keras34_generator.ipynb",
      "version": "0.3.2",
      "provenance": [],
      "collapsed_sections": [],
      "include_colab_link": true
    },
    "kernelspec": {
      "name": "python3",
      "display_name": "Python 3"
    },
    "accelerator": "GPU"
  },
  "cells": [
    {
      "cell_type": "markdown",
      "metadata": {
        "id": "view-in-github",
        "colab_type": "text"
      },
      "source": [
        "<a href=\"https://colab.research.google.com/github/OWEN-JUN/keras_/blob/master/day0802_colab_keras34_generator.ipynb\" target=\"_parent\"><img src=\"https://colab.research.google.com/assets/colab-badge.svg\" alt=\"Open In Colab\"/></a>"
      ]
    },
    {
      "cell_type": "code",
      "metadata": {
        "id": "IMjDRTZ93PjX",
        "colab_type": "code",
        "colab": {
          "base_uri": "https://localhost:8080/",
          "height": 34
        },
        "outputId": "68e966c7-e28e-4129-c61b-6fafaef06467"
      },
      "source": [
        "from keras.preprocessing.image import ImageDataGenerator\n",
        "from sklearn.model_selection import train_test_split\n",
        "from keras.models import *\n",
        "from keras.utils import np_utils\n",
        "from keras.layers import *\n",
        "from keras.callbacks import *"
      ],
      "execution_count": 1,
      "outputs": [
        {
          "output_type": "stream",
          "text": [
            "Using TensorFlow backend.\n"
          ],
          "name": "stderr"
        }
      ]
    },
    {
      "cell_type": "code",
      "metadata": {
        "id": "IEHd7mLD6RyV",
        "colab_type": "code",
        "colab": {}
      },
      "source": [
        "from keras.datasets import mnist\n",
        "(x_train, y_train),(x_test,y_test) = mnist.load_data()"
      ],
      "execution_count": 0,
      "outputs": []
    },
    {
      "cell_type": "code",
      "metadata": {
        "id": "LD1KCbGL6SKg",
        "colab_type": "code",
        "colab": {}
      },
      "source": [
        "\n",
        "x_train, _, y_train, _ = train_test_split(x_train, y_train, random_state=66, test_size = 0.995)\n",
        "\n",
        "\n",
        "x_train = x_train.reshape(x_train.shape[0], 28 ,28 ,1).astype('float32') / 255 # 6만행(무시) 나머지는 아래 input_shape값이 된다.\n",
        "x_test = x_test.reshape(x_test.shape[0], 28, 28, 1).astype('float32') / 255 # 0~1 사이로 수렴(minmax)시키기 위해 minmaxscaler같은거 필요없이 각 픽셀당 255의 값을 나누어서 아주 간단하게 데이터 전처리를 하는 과정\n",
        "y_train = np_utils.to_categorical(y_train) # One Hot Incoding으로 데이터를 변환시킨다. 분류\n",
        "y_test = np_utils.to_categorical(y_test)\n"
      ],
      "execution_count": 0,
      "outputs": []
    },
    {
      "cell_type": "code",
      "metadata": {
        "id": "cUDKT9Ds7UQJ",
        "colab_type": "code",
        "colab": {}
      },
      "source": [
        ""
      ],
      "execution_count": 0,
      "outputs": []
    },
    {
      "cell_type": "code",
      "metadata": {
        "id": "xvESTY1Z3eDB",
        "colab_type": "code",
        "colab": {}
      },
      "source": [
        "data_generator = ImageDataGenerator(\n",
        "    rotation_range=30,\n",
        "    width_shift_range = 0.08,\n",
        "    height_shift_range = 0.05,\n",
        "    horizontal_flip=True)\n",
        "    \n"
      ],
      "execution_count": 0,
      "outputs": []
    },
    {
      "cell_type": "code",
      "metadata": {
        "id": "BDZXUYY68shj",
        "colab_type": "code",
        "colab": {}
      },
      "source": [
        "model = Sequential()\n",
        "#conv 신경망 설정\n",
        "\n",
        "model.add(Conv2D(32,kernel_size=(3,3), input_shape=(28,28,1),activation=\"relu\",padding=\"same\"))\n",
        "model.add(BatchNormalization())\n",
        "\n",
        "# model.add(Dropout(0.3))\n",
        "model.add(Conv2D(32,(4,4),activation=\"relu\"))\n",
        "model.add(BatchNormalization())\n",
        "\n",
        "model.add(MaxPooling2D(pool_size=2))\n",
        "model.add(Dropout(0.2))\n",
        "\n",
        "\n",
        "\n",
        "# model.add(MaxPooling2D(pool_size=4))\n",
        "model.add(Conv2D(64,(3,3),activation=\"relu\",padding=\"same\"))\n",
        "model.add(BatchNormalization())\n",
        "\n",
        "model.add(Conv2D(64,(3,3),activation=\"relu\"))\n",
        "model.add(BatchNormalization())\n",
        "\n",
        "model.add(MaxPooling2D(pool_size=2))\n",
        "model.add(Dropout(0.3))\n",
        "\n",
        "\n",
        "model.add(Conv2D(200,(3,3),activation=\"relu\",padding=\"same\"))\n",
        "model.add(BatchNormalization())\n",
        "\n",
        "model.add(Conv2D(200,(3,3),activation=\"relu\",padding=\"same\"))\n",
        "model.add(BatchNormalization())\n",
        "\n",
        "model.add(MaxPooling2D(pool_size=3))\n",
        "model.add(Dropout(0.5))\n",
        "\n",
        "\n",
        "\n",
        "\n",
        "\n",
        "model.add(Flatten())\n",
        "# model.add(Dense(1500, activation=\"relu\"))\n",
        "# model.add(Dropout(0.3))\n",
        "\n",
        "model.add(Dense(350, activation=\"relu\"))\n",
        "model.add(Dropout(0.3))\n",
        "\n",
        "# model.add(Dense(30, activation=\"relu\"))\n",
        "# model.add(Dropout(0.5))\n",
        "model.add(Dense(10,activation=\"softmax\"))\n",
        "\n",
        "model.compile(loss=\"categorical_crossentropy\",optimizer=\"adam\",metrics=[\"accuracy\"])"
      ],
      "execution_count": 0,
      "outputs": []
    },
    {
      "cell_type": "code",
      "metadata": {
        "id": "_pvewaCs3y48",
        "colab_type": "code",
        "colab": {
          "base_uri": "https://localhost:8080/",
          "height": 1000
        },
        "outputId": "4a00b04e-4ca8-478b-88e3-b8b9e2edf218"
      },
      "source": [
        "early_stoping_callback = EarlyStopping(monitor=\"val_loss\",patience=30)\n",
        "\n",
        "model.fit_generator(data_generator.flow(x_train, y_train, batch_size=10), \n",
        "                    # steps_per_epoch=len(x_train)//32,\n",
        "                    steps_per_epoch=100,\n",
        "                    epochs=300,\n",
        "                    \n",
        "                    validation_data=(x_test, y_test),\n",
        "                    verbose=1,\n",
        "                    callbacks=[early_stoping_callback]\n",
        "                    )"
      ],
      "execution_count": 48,
      "outputs": [
        {
          "output_type": "stream",
          "text": [
            "Epoch 1/300\n",
            "100/100 [==============================] - 10s 102ms/step - loss: 2.7034 - acc: 0.2290 - val_loss: 1.4463 - val_acc: 0.5200\n",
            "Epoch 2/300\n",
            "100/100 [==============================] - 8s 80ms/step - loss: 1.6448 - acc: 0.4490 - val_loss: 0.8873 - val_acc: 0.7145\n",
            "Epoch 3/300\n",
            "100/100 [==============================] - 8s 80ms/step - loss: 1.3263 - acc: 0.5530 - val_loss: 0.6157 - val_acc: 0.7884\n",
            "Epoch 4/300\n",
            "100/100 [==============================] - 8s 80ms/step - loss: 1.1285 - acc: 0.6160 - val_loss: 0.4574 - val_acc: 0.8488\n",
            "Epoch 5/300\n",
            "100/100 [==============================] - 8s 80ms/step - loss: 1.0149 - acc: 0.6500 - val_loss: 0.5728 - val_acc: 0.7863\n",
            "Epoch 6/300\n",
            "100/100 [==============================] - 8s 81ms/step - loss: 0.8888 - acc: 0.6950 - val_loss: 0.4045 - val_acc: 0.8503\n",
            "Epoch 7/300\n",
            "100/100 [==============================] - 8s 81ms/step - loss: 0.7417 - acc: 0.7570 - val_loss: 0.3541 - val_acc: 0.8776\n",
            "Epoch 8/300\n",
            "100/100 [==============================] - 8s 80ms/step - loss: 0.6995 - acc: 0.7600 - val_loss: 0.3605 - val_acc: 0.8779\n",
            "Epoch 9/300\n",
            "100/100 [==============================] - 8s 80ms/step - loss: 0.6427 - acc: 0.7790 - val_loss: 0.3858 - val_acc: 0.8558\n",
            "Epoch 10/300\n",
            "100/100 [==============================] - 8s 80ms/step - loss: 0.5934 - acc: 0.8010 - val_loss: 0.3086 - val_acc: 0.8924\n",
            "Epoch 11/300\n",
            "100/100 [==============================] - 8s 80ms/step - loss: 0.5479 - acc: 0.8080 - val_loss: 0.2929 - val_acc: 0.9048\n",
            "Epoch 12/300\n",
            "100/100 [==============================] - 8s 80ms/step - loss: 0.4867 - acc: 0.8410 - val_loss: 0.2572 - val_acc: 0.9132\n",
            "Epoch 13/300\n",
            "100/100 [==============================] - 8s 81ms/step - loss: 0.4761 - acc: 0.8410 - val_loss: 0.2532 - val_acc: 0.9200\n",
            "Epoch 14/300\n",
            "100/100 [==============================] - 8s 81ms/step - loss: 0.4120 - acc: 0.8570 - val_loss: 0.3124 - val_acc: 0.8999\n",
            "Epoch 15/300\n",
            "100/100 [==============================] - 8s 81ms/step - loss: 0.4278 - acc: 0.8620 - val_loss: 0.2962 - val_acc: 0.9017\n",
            "Epoch 16/300\n",
            "100/100 [==============================] - 8s 81ms/step - loss: 0.4033 - acc: 0.8710 - val_loss: 0.2357 - val_acc: 0.9241\n",
            "Epoch 17/300\n",
            "100/100 [==============================] - 8s 81ms/step - loss: 0.3669 - acc: 0.8720 - val_loss: 0.2257 - val_acc: 0.9335\n",
            "Epoch 18/300\n",
            "100/100 [==============================] - 8s 81ms/step - loss: 0.3072 - acc: 0.8950 - val_loss: 0.2752 - val_acc: 0.9242\n",
            "Epoch 19/300\n",
            "100/100 [==============================] - 8s 80ms/step - loss: 0.3209 - acc: 0.8930 - val_loss: 0.1903 - val_acc: 0.9431\n",
            "Epoch 20/300\n",
            "100/100 [==============================] - 8s 81ms/step - loss: 0.3054 - acc: 0.9010 - val_loss: 0.2507 - val_acc: 0.9262\n",
            "Epoch 21/300\n",
            "100/100 [==============================] - 8s 81ms/step - loss: 0.2802 - acc: 0.9100 - val_loss: 0.2957 - val_acc: 0.9151\n",
            "Epoch 22/300\n",
            "100/100 [==============================] - 8s 80ms/step - loss: 0.3112 - acc: 0.9000 - val_loss: 0.2820 - val_acc: 0.9309\n",
            "Epoch 23/300\n",
            "100/100 [==============================] - 8s 81ms/step - loss: 0.2745 - acc: 0.9100 - val_loss: 0.2170 - val_acc: 0.9409\n",
            "Epoch 24/300\n",
            "100/100 [==============================] - 8s 81ms/step - loss: 0.2693 - acc: 0.9050 - val_loss: 0.2328 - val_acc: 0.9262\n",
            "Epoch 25/300\n",
            "100/100 [==============================] - 8s 80ms/step - loss: 0.2658 - acc: 0.9070 - val_loss: 0.3836 - val_acc: 0.8956\n",
            "Epoch 26/300\n",
            "100/100 [==============================] - 8s 81ms/step - loss: 0.2524 - acc: 0.9180 - val_loss: 0.1363 - val_acc: 0.9603\n",
            "Epoch 27/300\n",
            "100/100 [==============================] - 8s 81ms/step - loss: 0.1885 - acc: 0.9470 - val_loss: 0.2387 - val_acc: 0.9311\n",
            "Epoch 28/300\n",
            "100/100 [==============================] - 8s 81ms/step - loss: 0.2500 - acc: 0.9190 - val_loss: 0.2066 - val_acc: 0.9444\n",
            "Epoch 29/300\n",
            "100/100 [==============================] - 8s 81ms/step - loss: 0.2005 - acc: 0.9360 - val_loss: 0.1932 - val_acc: 0.9422\n",
            "Epoch 30/300\n",
            "100/100 [==============================] - 8s 81ms/step - loss: 0.2067 - acc: 0.9240 - val_loss: 0.2327 - val_acc: 0.9409\n",
            "Epoch 31/300\n",
            "100/100 [==============================] - 8s 81ms/step - loss: 0.1850 - acc: 0.9390 - val_loss: 0.2037 - val_acc: 0.9458\n",
            "Epoch 32/300\n",
            "100/100 [==============================] - 8s 81ms/step - loss: 0.1925 - acc: 0.9350 - val_loss: 0.1980 - val_acc: 0.9438\n",
            "Epoch 33/300\n",
            "100/100 [==============================] - 8s 80ms/step - loss: 0.2019 - acc: 0.9300 - val_loss: 0.2217 - val_acc: 0.9386\n",
            "Epoch 34/300\n",
            "100/100 [==============================] - 8s 81ms/step - loss: 0.1921 - acc: 0.9410 - val_loss: 0.1623 - val_acc: 0.9573\n",
            "Epoch 35/300\n",
            "100/100 [==============================] - 8s 81ms/step - loss: 0.1684 - acc: 0.9380 - val_loss: 0.1498 - val_acc: 0.9607\n",
            "Epoch 36/300\n",
            "100/100 [==============================] - 8s 80ms/step - loss: 0.1846 - acc: 0.9420 - val_loss: 0.2127 - val_acc: 0.9413\n",
            "Epoch 37/300\n",
            "100/100 [==============================] - 8s 81ms/step - loss: 0.1877 - acc: 0.9350 - val_loss: 0.1546 - val_acc: 0.9572\n",
            "Epoch 38/300\n",
            "100/100 [==============================] - 8s 80ms/step - loss: 0.1601 - acc: 0.9430 - val_loss: 0.2993 - val_acc: 0.9246\n",
            "Epoch 39/300\n",
            "100/100 [==============================] - 8s 81ms/step - loss: 0.1692 - acc: 0.9400 - val_loss: 0.2744 - val_acc: 0.9367\n",
            "Epoch 40/300\n",
            "100/100 [==============================] - 8s 81ms/step - loss: 0.1898 - acc: 0.9370 - val_loss: 0.3316 - val_acc: 0.9150\n",
            "Epoch 41/300\n",
            "100/100 [==============================] - 8s 81ms/step - loss: 0.1684 - acc: 0.9500 - val_loss: 0.1889 - val_acc: 0.9560\n",
            "Epoch 42/300\n",
            "100/100 [==============================] - 8s 81ms/step - loss: 0.1583 - acc: 0.9520 - val_loss: 0.1885 - val_acc: 0.9535\n",
            "Epoch 43/300\n",
            "100/100 [==============================] - 8s 81ms/step - loss: 0.1767 - acc: 0.9470 - val_loss: 0.2954 - val_acc: 0.9371\n",
            "Epoch 44/300\n",
            "100/100 [==============================] - 8s 80ms/step - loss: 0.1472 - acc: 0.9520 - val_loss: 0.2991 - val_acc: 0.9311\n",
            "Epoch 45/300\n",
            "100/100 [==============================] - 8s 80ms/step - loss: 0.1795 - acc: 0.9410 - val_loss: 0.2478 - val_acc: 0.9410\n",
            "Epoch 46/300\n",
            "100/100 [==============================] - 8s 81ms/step - loss: 0.2178 - acc: 0.9210 - val_loss: 0.2256 - val_acc: 0.9423\n",
            "Epoch 47/300\n",
            "100/100 [==============================] - 8s 80ms/step - loss: 0.1351 - acc: 0.9640 - val_loss: 0.2385 - val_acc: 0.9445\n",
            "Epoch 48/300\n",
            "100/100 [==============================] - 8s 81ms/step - loss: 0.1442 - acc: 0.9440 - val_loss: 0.2068 - val_acc: 0.9491\n",
            "Epoch 49/300\n",
            "100/100 [==============================] - 8s 80ms/step - loss: 0.1367 - acc: 0.9540 - val_loss: 0.2223 - val_acc: 0.9508\n",
            "Epoch 50/300\n",
            "100/100 [==============================] - 8s 80ms/step - loss: 0.1430 - acc: 0.9560 - val_loss: 0.2346 - val_acc: 0.9493\n",
            "Epoch 51/300\n",
            "100/100 [==============================] - 8s 81ms/step - loss: 0.1700 - acc: 0.9470 - val_loss: 0.2005 - val_acc: 0.9524\n",
            "Epoch 52/300\n",
            "100/100 [==============================] - 8s 81ms/step - loss: 0.1567 - acc: 0.9510 - val_loss: 0.1765 - val_acc: 0.9590\n",
            "Epoch 53/300\n",
            "100/100 [==============================] - 8s 81ms/step - loss: 0.1360 - acc: 0.9550 - val_loss: 0.1850 - val_acc: 0.9561\n",
            "Epoch 54/300\n",
            "100/100 [==============================] - 8s 81ms/step - loss: 0.1360 - acc: 0.9630 - val_loss: 0.2129 - val_acc: 0.9490\n",
            "Epoch 55/300\n",
            "100/100 [==============================] - 8s 81ms/step - loss: 0.0899 - acc: 0.9680 - val_loss: 0.1833 - val_acc: 0.9577\n",
            "Epoch 56/300\n",
            "100/100 [==============================] - 8s 80ms/step - loss: 0.1689 - acc: 0.9610 - val_loss: 0.2044 - val_acc: 0.9576\n"
          ],
          "name": "stdout"
        },
        {
          "output_type": "execute_result",
          "data": {
            "text/plain": [
              "<keras.callbacks.History at 0x7f1b441757b8>"
            ]
          },
          "metadata": {
            "tags": []
          },
          "execution_count": 48
        }
      ]
    },
    {
      "cell_type": "code",
      "metadata": {
        "id": "ngofOuIx8fvv",
        "colab_type": "code",
        "colab": {
          "base_uri": "https://localhost:8080/",
          "height": 70
        },
        "outputId": "01e03d9e-9379-4142-8af1-6284d33c155c"
      },
      "source": [
        "print(\"\\n test acc: %.4f\"%(model.evaluate(x_test, y_test)[1]))"
      ],
      "execution_count": 50,
      "outputs": [
        {
          "output_type": "stream",
          "text": [
            "10000/10000 [==============================] - 3s 257us/step\n",
            "\n",
            " test acc: 0.9576\n"
          ],
          "name": "stdout"
        }
      ]
    },
    {
      "cell_type": "code",
      "metadata": {
        "id": "0DZ4Z8gCFFfj",
        "colab_type": "code",
        "colab": {
          "base_uri": "https://localhost:8080/",
          "height": 34
        },
        "outputId": "13bb680f-ab8c-44d8-84b9-535e7ae9147e"
      },
      "source": [
        "data_generator.flow(x_train, y_train, batch_size=10)[0][0].shape"
      ],
      "execution_count": 34,
      "outputs": [
        {
          "output_type": "execute_result",
          "data": {
            "text/plain": [
              "(10, 28, 28, 1)"
            ]
          },
          "metadata": {
            "tags": []
          },
          "execution_count": 34
        }
      ]
    },
    {
      "cell_type": "markdown",
      "metadata": {
        "id": "v3YzIGTHFlpB",
        "colab_type": "text"
      },
      "source": [
        ""
      ]
    },
    {
      "cell_type": "code",
      "metadata": {
        "id": "2cR8EPXXFj1o",
        "colab_type": "code",
        "colab": {
          "base_uri": "https://localhost:8080/",
          "height": 34
        },
        "outputId": "a8e54de6-fd9d-4399-db24-6ff35a77aae3"
      },
      "source": [
        "len(data_generator.flow(x_train, y_train, batch_size=10))\n"
      ],
      "execution_count": 35,
      "outputs": [
        {
          "output_type": "execute_result",
          "data": {
            "text/plain": [
              "30"
            ]
          },
          "metadata": {
            "tags": []
          },
          "execution_count": 35
        }
      ]
    },
    {
      "cell_type": "code",
      "metadata": {
        "id": "5BdX94DvIfdx",
        "colab_type": "code",
        "colab": {}
      },
      "source": [
        ""
      ],
      "execution_count": 0,
      "outputs": []
    }
  ]
}