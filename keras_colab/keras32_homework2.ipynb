{
  "nbformat": 4,
  "nbformat_minor": 0,
  "metadata": {
    "colab": {
      "name": "keras32_homework2.ipynb",
      "version": "0.3.2",
      "provenance": [],
      "collapsed_sections": [],
      "include_colab_link": true
    },
    "kernelspec": {
      "name": "python3",
      "display_name": "Python 3"
    },
    "accelerator": "GPU"
  },
  "cells": [
    {
      "cell_type": "markdown",
      "metadata": {
        "id": "view-in-github",
        "colab_type": "text"
      },
      "source": [
        "<a href=\"https://colab.research.google.com/github/OWEN-JUN/keras_/blob/master/keras32_homework2.ipynb\" target=\"_parent\"><img src=\"https://colab.research.google.com/assets/colab-badge.svg\" alt=\"Open In Colab\"/></a>"
      ]
    },
    {
      "cell_type": "code",
      "metadata": {
        "id": "GyUrgIASQCf5",
        "colab_type": "code",
        "outputId": "ff682c40-05ea-4254-d9ae-cabf08d7d256",
        "colab": {
          "base_uri": "https://localhost:8080/",
          "height": 35
        }
      },
      "source": [
        "from keras.datasets import mnist\n",
        "from keras.utils import np_utils\n",
        "from keras.models import * #sequential\n",
        "from keras.layers import * #dense, dropout, flatten, conv2d, maxpooling2d\n",
        "from keras.callbacks import * #modelcheckpoint, earlystopping\n",
        "\n",
        "import matplotlib.pyplot as plt\n",
        "import numba\n",
        "import os\n",
        "import tensorflow as tf"
      ],
      "execution_count": 1,
      "outputs": [
        {
          "output_type": "stream",
          "text": [
            "Using TensorFlow backend.\n"
          ],
          "name": "stderr"
        }
      ]
    },
    {
      "cell_type": "code",
      "metadata": {
        "id": "_4R7k-GnQlQ0",
        "colab_type": "code",
        "outputId": "bf88d0d2-01cd-43eb-869e-c20e8d0f2393",
        "colab": {
          "base_uri": "https://localhost:8080/",
          "height": 305
        }
      },
      "source": [
        "(x_train, y_train),(x_test,y_test) = mnist.load_data()\n",
        "digit = x_train[88]\n",
        "plt.imshow(digit, cmap=plt.cm.binary)\n",
        "\n",
        "x_train = x_train.reshape(x_train.shape[0],28,28,1).astype(\"float32\")/255\n",
        "\n",
        "x_test = x_test.reshape(x_test.shape[0],28,28,1).astype(\"float32\")/255\n",
        "\n",
        "y_train= np_utils.to_categorical(y_train)\n",
        "\n",
        "y_test= np_utils.to_categorical(y_test)\n",
        "\n"
      ],
      "execution_count": 2,
      "outputs": [
        {
          "output_type": "stream",
          "text": [
            "Downloading data from https://s3.amazonaws.com/img-datasets/mnist.npz\n",
            "11493376/11490434 [==============================] - 1s 0us/step\n"
          ],
          "name": "stdout"
        },
        {
          "output_type": "display_data",
          "data": {
            "image/png": "[encoded data removed]",
            "text/plain": [
              "<Figure size 432x288 with 1 Axes>"
            ]
          },
          "metadata": {
            "tags": []
          }
        }
      ]
    },
    {
      "cell_type": "code",
      "metadata": {
        "id": "zDUW2sqKRzZR",
        "colab_type": "code",
        "outputId": "ab85c00d-dcc7-491b-98b5-443ffcceeb58",
        "colab": {
          "base_uri": "https://localhost:8080/",
          "height": 111
        }
      },
      "source": [
        "model = Sequential()"
      ],
      "execution_count": 0,
      "outputs": [
        {
          "output_type": "stream",
          "text": [
            "WARNING: Logging before flag parsing goes to stderr.\n",
            "W0729 06:24:05.797095 139858669565824 deprecation_wrapper.py:119] From /usr/local/lib/python3.6/dist-packages/keras/backend/tensorflow_backend.py:74: The name tf.get_default_graph is deprecated. Please use tf.compat.v1.get_default_graph instead.\n",
            "\n"
          ],
          "name": "stderr"
        }
      ]
    },
    {
      "cell_type": "code",
      "metadata": {
        "id": "r8chEc48R62s",
        "colab_type": "code",
        "outputId": "80b4017c-e26c-4266-b1ea-27b6696db781",
        "colab": {
          "base_uri": "https://localhost:8080/",
          "height": 1000
        }
      },
      "source": [
        "#conv 신경망 설정\n",
        "\n",
        "model.add(Conv2D(32,kernel_size=(3,3), input_shape=(28,28,1),activation=\"relu\"))\n",
        "model.add(Conv2D(64,(3,3),activation=\"relu\"))\n",
        "model.add(MaxPooling2D(pool_size=2))\n",
        "model.add(Dropout(0.25))\n",
        "model.add(Flatten())\n",
        "model.add(Dense(128, activation=\"relu\"))\n",
        "model.add(Dropout(0.5))\n",
        "model.add(Dense(10,activation=\"softmax\"))\n",
        "\n",
        "model.compile(loss=\"categorical_crossentropy\",optimizer=\"adam\",metrics=[\"accuracy\"])\n",
        "\n",
        "\n",
        "early_stoping_callback = EarlyStopping(monitor=\"val_loss\",patience=10)\n",
        "\n",
        "history = model.fit(x_train, y_train, validation_data=(x_test, y_test), epochs = 30, batch_size=200, verbose=2, callbacks=[early_stoping_callback])\n",
        "\n",
        "print(\"\\n test acc: %.4f\"%(model.evaluate(x_test, y_test)[1]))"
      ],
      "execution_count": 0,
      "outputs": [
        {
          "output_type": "stream",
          "text": [
            "W0729 06:24:05.949813 139858669565824 deprecation_wrapper.py:119] From /usr/local/lib/python3.6/dist-packages/keras/backend/tensorflow_backend.py:517: The name tf.placeholder is deprecated. Please use tf.compat.v1.placeholder instead.\n",
            "\n",
            "W0729 06:24:05.959654 139858669565824 deprecation_wrapper.py:119] From /usr/local/lib/python3.6/dist-packages/keras/backend/tensorflow_backend.py:4138: The name tf.random_uniform is deprecated. Please use tf.random.uniform instead.\n",
            "\n",
            "W0729 06:24:06.011092 139858669565824 deprecation_wrapper.py:119] From /usr/local/lib/python3.6/dist-packages/keras/backend/tensorflow_backend.py:3976: The name tf.nn.max_pool is deprecated. Please use tf.nn.max_pool2d instead.\n",
            "\n",
            "W0729 06:24:06.018471 139858669565824 deprecation_wrapper.py:119] From /usr/local/lib/python3.6/dist-packages/keras/backend/tensorflow_backend.py:133: The name tf.placeholder_with_default is deprecated. Please use tf.compat.v1.placeholder_with_default instead.\n",
            "\n",
            "W0729 06:24:06.031158 139858669565824 deprecation.py:506] From /usr/local/lib/python3.6/dist-packages/keras/backend/tensorflow_backend.py:3445: calling dropout (from tensorflow.python.ops.nn_ops) with keep_prob is deprecated and will be removed in a future version.\n",
            "Instructions for updating:\n",
            "Please use `rate` instead of `keep_prob`. Rate should be set to `rate = 1 - keep_prob`.\n",
            "W0729 06:24:06.120325 139858669565824 deprecation_wrapper.py:119] From /usr/local/lib/python3.6/dist-packages/keras/optimizers.py:790: The name tf.train.Optimizer is deprecated. Please use tf.compat.v1.train.Optimizer instead.\n",
            "\n",
            "W0729 06:24:06.148888 139858669565824 deprecation_wrapper.py:119] From /usr/local/lib/python3.6/dist-packages/keras/backend/tensorflow_backend.py:3295: The name tf.log is deprecated. Please use tf.math.log instead.\n",
            "\n",
            "W0729 06:24:06.294486 139858669565824 deprecation.py:323] From /usr/local/lib/python3.6/dist-packages/tensorflow/python/ops/math_grad.py:1250: add_dispatch_support.<locals>.wrapper (from tensorflow.python.ops.array_ops) is deprecated and will be removed in a future version.\n",
            "Instructions for updating:\n",
            "Use tf.where in 2.0, which has the same broadcast rule as np.where\n"
          ],
          "name": "stderr"
        },
        {
          "output_type": "stream",
          "text": [
            "Train on 60000 samples, validate on 10000 samples\n",
            "Epoch 1/30\n",
            " - 13s - loss: 0.2770 - acc: 0.9157 - val_loss: 0.0554 - val_acc: 0.9813\n",
            "Epoch 2/30\n",
            " - 7s - loss: 0.0931 - acc: 0.9724 - val_loss: 0.0374 - val_acc: 0.9868\n",
            "Epoch 3/30\n",
            " - 7s - loss: 0.0671 - acc: 0.9802 - val_loss: 0.0312 - val_acc: 0.9890\n",
            "Epoch 4/30\n",
            " - 7s - loss: 0.0551 - acc: 0.9837 - val_loss: 0.0296 - val_acc: 0.9896\n",
            "Epoch 5/30\n",
            " - 7s - loss: 0.0481 - acc: 0.9853 - val_loss: 0.0334 - val_acc: 0.9898\n",
            "Epoch 6/30\n",
            " - 7s - loss: 0.0398 - acc: 0.9875 - val_loss: 0.0296 - val_acc: 0.9908\n",
            "Epoch 7/30\n",
            " - 7s - loss: 0.0367 - acc: 0.9886 - val_loss: 0.0302 - val_acc: 0.9901\n",
            "Epoch 8/30\n",
            " - 7s - loss: 0.0323 - acc: 0.9899 - val_loss: 0.0279 - val_acc: 0.9909\n",
            "Epoch 9/30\n",
            " - 7s - loss: 0.0297 - acc: 0.9904 - val_loss: 0.0299 - val_acc: 0.9913\n",
            "Epoch 10/30\n",
            " - 7s - loss: 0.0286 - acc: 0.9907 - val_loss: 0.0260 - val_acc: 0.9919\n",
            "Epoch 11/30\n",
            " - 7s - loss: 0.0232 - acc: 0.9923 - val_loss: 0.0268 - val_acc: 0.9909\n",
            "Epoch 12/30\n",
            " - 7s - loss: 0.0237 - acc: 0.9921 - val_loss: 0.0316 - val_acc: 0.9917\n",
            "Epoch 13/30\n",
            " - 7s - loss: 0.0225 - acc: 0.9924 - val_loss: 0.0271 - val_acc: 0.9911\n",
            "Epoch 14/30\n",
            " - 7s - loss: 0.0202 - acc: 0.9931 - val_loss: 0.0277 - val_acc: 0.9921\n",
            "Epoch 15/30\n",
            " - 7s - loss: 0.0193 - acc: 0.9935 - val_loss: 0.0338 - val_acc: 0.9909\n",
            "Epoch 16/30\n",
            " - 7s - loss: 0.0183 - acc: 0.9940 - val_loss: 0.0272 - val_acc: 0.9921\n",
            "Epoch 17/30\n",
            " - 7s - loss: 0.0186 - acc: 0.9938 - val_loss: 0.0312 - val_acc: 0.9910\n",
            "Epoch 18/30\n",
            " - 7s - loss: 0.0174 - acc: 0.9942 - val_loss: 0.0314 - val_acc: 0.9910\n",
            "Epoch 19/30\n",
            " - 7s - loss: 0.0154 - acc: 0.9947 - val_loss: 0.0340 - val_acc: 0.9913\n",
            "Epoch 20/30\n",
            " - 7s - loss: 0.0152 - acc: 0.9948 - val_loss: 0.0290 - val_acc: 0.9927\n",
            "10000/10000 [==============================] - 1s 93us/step\n",
            "\n",
            " test acc: 0.9927\n"
          ],
          "name": "stdout"
        }
      ]
    },
    {
      "cell_type": "code",
      "metadata": {
        "id": "YFvTa_ZMTkgT",
        "colab_type": "code",
        "colab": {
          "base_uri": "https://localhost:8080/",
          "height": 892
        },
        "outputId": "81caaed4-d41d-4f9a-e7ac-a01d2e416c68"
      },
      "source": [
        "inputs = Input(shape=(28,28,1), name=\"input\")\n",
        "x = Conv2D(32,kernel_size=(3,3),activation=\"relu\")(inputs)\n",
        "x = Dropout(0.2)(x)\n",
        "x = Conv2D(64,(3,3),activation=\"relu\")(x)\n",
        "x = MaxPooling2D(pool_size=2)(x)\n",
        "x = Dropout(0.2)(x)\n",
        "x = Flatten()(x)\n",
        "x = Dense(256, activation=\"relu\", name=\"hidden2\")(x)\n",
        "x = Dropout(0.2)(x)\n",
        "x = Dense(128, activation=\"relu\", name=\"hidden3\")(x)\n",
        "x = Dropout(0.2)(x)\n",
        "prediction = Dense(10, activation=\"softmax\", name=\"output\")(x)\n",
        "model = Model(input = inputs, outputs=prediction)\n",
        "model.compile(optimizer = \"adam\", loss=\"categorical_crossentropy\", metrics=[\"accuracy\"])\n",
        "\n",
        "model.compile(loss=\"categorical_crossentropy\",optimizer=\"adam\",metrics=[\"accuracy\"])\n",
        "\n",
        "\n",
        "early_stoping_callback = EarlyStopping(monitor=\"val_loss\",patience=10)\n",
        "\n",
        "history = model.fit(x_train, y_train, validation_data=(x_test, y_test), epochs = 30, batch_size=50, verbose=2,callbacks=[early_stoping_callback])\n",
        "\n",
        "print(\"\\n test acc: %.4f\"%(model.evaluate(x_test, y_test)[1]))\n",
        "early_stoping_callback = EarlyStopping(monitor=\"val_loss\",patience=10)\n",
        "\n",
        "history = model.fit(x_train, y_train, validation_data=(x_test, y_test), epochs = 30, batch_size=200, verbose=2, callbacks=[early_stoping_callback])\n",
        "\n",
        "print(\"\\n test acc: %.4f\"%(model.evaluate(x_test, y_test)[1]))\n"
      ],
      "execution_count": 0,
      "outputs": [
        {
          "output_type": "stream",
          "text": [
            "WARNING: Logging before flag parsing goes to stderr.\n",
            "W0802 00:03:40.591597 140091636844416 deprecation_wrapper.py:119] From /usr/local/lib/python3.6/dist-packages/keras/backend/tensorflow_backend.py:517: The name tf.placeholder is deprecated. Please use tf.compat.v1.placeholder instead.\n",
            "\n",
            "W0802 00:03:40.650798 140091636844416 deprecation_wrapper.py:119] From /usr/local/lib/python3.6/dist-packages/keras/backend/tensorflow_backend.py:74: The name tf.get_default_graph is deprecated. Please use tf.compat.v1.get_default_graph instead.\n",
            "\n",
            "W0802 00:03:40.652812 140091636844416 deprecation_wrapper.py:119] From /usr/local/lib/python3.6/dist-packages/keras/backend/tensorflow_backend.py:4138: The name tf.random_uniform is deprecated. Please use tf.random.uniform instead.\n",
            "\n",
            "W0802 00:03:40.696410 140091636844416 deprecation_wrapper.py:119] From /usr/local/lib/python3.6/dist-packages/keras/backend/tensorflow_backend.py:133: The name tf.placeholder_with_default is deprecated. Please use tf.compat.v1.placeholder_with_default instead.\n",
            "\n",
            "W0802 00:03:40.711791 140091636844416 deprecation.py:506] From /usr/local/lib/python3.6/dist-packages/keras/backend/tensorflow_backend.py:3445: calling dropout (from tensorflow.python.ops.nn_ops) with keep_prob is deprecated and will be removed in a future version.\n",
            "Instructions for updating:\n",
            "Please use `rate` instead of `keep_prob`. Rate should be set to `rate = 1 - keep_prob`.\n",
            "W0802 00:03:40.752744 140091636844416 deprecation_wrapper.py:119] From /usr/local/lib/python3.6/dist-packages/keras/backend/tensorflow_backend.py:3976: The name tf.nn.max_pool is deprecated. Please use tf.nn.max_pool2d instead.\n",
            "\n",
            "/usr/local/lib/python3.6/dist-packages/ipykernel_launcher.py:13: UserWarning: Update your `Model` call to the Keras 2 API: `Model(outputs=Tensor(\"ou..., inputs=Tensor(\"in...)`\n",
            "  del sys.path[0]\n",
            "W0802 00:03:40.890118 140091636844416 deprecation_wrapper.py:119] From /usr/local/lib/python3.6/dist-packages/keras/optimizers.py:790: The name tf.train.Optimizer is deprecated. Please use tf.compat.v1.train.Optimizer instead.\n",
            "\n",
            "W0802 00:03:40.929236 140091636844416 deprecation_wrapper.py:119] From /usr/local/lib/python3.6/dist-packages/keras/backend/tensorflow_backend.py:3295: The name tf.log is deprecated. Please use tf.math.log instead.\n",
            "\n",
            "W0802 00:03:41.132030 140091636844416 deprecation.py:323] From /usr/local/lib/python3.6/dist-packages/tensorflow/python/ops/math_grad.py:1250: add_dispatch_support.<locals>.wrapper (from tensorflow.python.ops.array_ops) is deprecated and will be removed in a future version.\n",
            "Instructions for updating:\n",
            "Use tf.where in 2.0, which has the same broadcast rule as np.where\n"
          ],
          "name": "stderr"
        },
        {
          "output_type": "stream",
          "text": [
            "Train on 60000 samples, validate on 10000 samples\n",
            "Epoch 1/30\n",
            " - 26s - loss: 0.1718 - acc: 0.9466 - val_loss: 0.0597 - val_acc: 0.9816\n",
            "Epoch 2/30\n",
            " - 19s - loss: 0.0582 - acc: 0.9827 - val_loss: 0.0438 - val_acc: 0.9859\n",
            "Epoch 3/30\n",
            " - 20s - loss: 0.0414 - acc: 0.9877 - val_loss: 0.0313 - val_acc: 0.9900\n",
            "Epoch 4/30\n",
            " - 20s - loss: 0.0331 - acc: 0.9894 - val_loss: 0.0360 - val_acc: 0.9898\n",
            "Epoch 5/30\n",
            " - 18s - loss: 0.0267 - acc: 0.9919 - val_loss: 0.0303 - val_acc: 0.9909\n",
            "Epoch 6/30\n",
            " - 18s - loss: 0.0213 - acc: 0.9939 - val_loss: 0.0356 - val_acc: 0.9908\n",
            "Epoch 7/30\n",
            " - 19s - loss: 0.0190 - acc: 0.9939 - val_loss: 0.0323 - val_acc: 0.9922\n",
            "Epoch 8/30\n",
            " - 18s - loss: 0.0169 - acc: 0.9948 - val_loss: 0.0380 - val_acc: 0.9902\n",
            "Epoch 9/30\n",
            " - 18s - loss: 0.0157 - acc: 0.9951 - val_loss: 0.0338 - val_acc: 0.9913\n",
            "Epoch 10/30\n",
            " - 18s - loss: 0.0141 - acc: 0.9954 - val_loss: 0.0384 - val_acc: 0.9898\n",
            "Epoch 11/30\n",
            " - 18s - loss: 0.0121 - acc: 0.9962 - val_loss: 0.0448 - val_acc: 0.9894\n",
            "Epoch 12/30\n"
          ],
          "name": "stdout"
        }
      ]
    },
    {
      "cell_type": "code",
      "metadata": {
        "id": "nicDxVjVoiw8",
        "colab_type": "code",
        "colab": {}
      },
      "source": [
        ""
      ],
      "execution_count": 0,
      "outputs": []
    }
  ]
}