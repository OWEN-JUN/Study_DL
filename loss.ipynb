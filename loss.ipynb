{
  "nbformat": 4,
  "nbformat_minor": 0,
  "metadata": {
    "colab": {
      "name": "loss.ipynb",
      "provenance": [],
      "collapsed_sections": [],
      "mount_file_id": "1Xwp2KGhoR-EudkbAxnXZ0iMnVT3kqQIp",
      "authorship_tag": "ABX9TyOFO5wk3Bxd4XyJhMeFoGg6",
      "include_colab_link": true
    },
    "kernelspec": {
      "name": "python3",
      "display_name": "Python 3"
    }
  },
  "cells": [
    {
      "cell_type": "markdown",
      "metadata": {
        "id": "view-in-github",
        "colab_type": "text"
      },
      "source": [
        "<a href=\"https://colab.research.google.com/github/OWEN-JUN/Study_DL/blob/master/loss.ipynb\" target=\"_parent\"><img src=\"https://colab.research.google.com/assets/colab-badge.svg\" alt=\"Open In Colab\"/></a>"
      ]
    },
    {
      "cell_type": "code",
      "metadata": {
        "id": "QGy0ZhBLEDq1",
        "colab": {
          "base_uri": "https://localhost:8080/",
          "height": 352
        },
        "outputId": "5675bcf4-7deb-4915-bac2-750003d1ac1c"
      },
      "source": [
        "import tensorflow as tf\r\n",
        "import numpy as np\r\n",
        "from utils import iou"
      ],
      "execution_count": 3,
      "outputs": [
        {
          "output_type": "error",
          "ename": "ModuleNotFoundError",
          "evalue": "ignored",
          "traceback": [
            "\u001b[0;31m---------------------------------------------------------------------------\u001b[0m",
            "\u001b[0;31mModuleNotFoundError\u001b[0m                       Traceback (most recent call last)",
            "\u001b[0;32m<ipython-input-3-e2f9cc271b38>\u001b[0m in \u001b[0;36m<module>\u001b[0;34m()\u001b[0m\n\u001b[1;32m      1\u001b[0m \u001b[0;32mimport\u001b[0m \u001b[0mtensorflow\u001b[0m \u001b[0;32mas\u001b[0m \u001b[0mtf\u001b[0m\u001b[0;34m\u001b[0m\u001b[0;34m\u001b[0m\u001b[0m\n\u001b[1;32m      2\u001b[0m \u001b[0;32mimport\u001b[0m \u001b[0mnumpy\u001b[0m \u001b[0;32mas\u001b[0m \u001b[0mnp\u001b[0m\u001b[0;34m\u001b[0m\u001b[0;34m\u001b[0m\u001b[0m\n\u001b[0;32m----> 3\u001b[0;31m \u001b[0;32mfrom\u001b[0m \u001b[0mutils\u001b[0m \u001b[0;32mimport\u001b[0m \u001b[0miou\u001b[0m\u001b[0;34m\u001b[0m\u001b[0;34m\u001b[0m\u001b[0m\n\u001b[0m",
            "\u001b[0;31mModuleNotFoundError\u001b[0m: No module named 'utils'",
            "",
            "\u001b[0;31m---------------------------------------------------------------------------\u001b[0;32m\nNOTE: If your import is failing due to a missing package, you can\nmanually install dependencies using either !pip or !apt.\n\nTo view examples of installing some common dependencies, click the\n\"Open Examples\" button below.\n\u001b[0;31m---------------------------------------------------------------------------\u001b[0m\n"
          ]
        }
      ]
    },
    {
      "cell_type": "code",
      "metadata": {
        "id": "NNLzhN7phCRF"
      },
      "source": [
        "def yolo_loss(predict, #3d [cell_size, cell_size, num_classes + 5 * boxes_per_cell] >> (7,7,20+5*2)\r\n",
        "              labels, #2d [object_num, 5] >> (Absolute_coordinate_x , Absolute_coordinate_y, Absolute_width, Absolute_height, class_num)\r\n",
        "              each_object_num, # each_obj number in image\r\n",
        "              num_classes, #number of classes\r\n",
        "              boxes_per_cell, #number of prediction boxes per each cell\r\n",
        "              cell_size, #each cell size\r\n",
        "              input_width, #input width of original image\r\n",
        "              input_height, #input height of original image\r\n",
        "              coord_scale, #coefficient for coordinate loss\r\n",
        "              object_scalse, #coefficient for object loss\r\n",
        "              noobject_scale, #coefficient for noobject loss\r\n",
        "              class_scale #coefficient for class_scale loss\r\n",
        "              ):\r\n",
        "  predict_boxes = predict[:,:, num_classes + boxes_per_cell:] # classes / conf1 / conf2/ box1_xywh / box2_xywh \r\n",
        "  predict_boxes = tf.reshape(predict_boxes, [cell_size, cell_size, boxes_per_cell, 4]) # ex) (7,7,2,4)\r\n",
        "\r\n",
        "  #prediction: each result x, y, sqrt_w, sqrt_h\r\n",
        "  pred_xcenter = predict_boxes[:,:,:,0]\r\n",
        "  pred_ycenter = predict_boxes[:,:,:,1]\r\n",
        "  pred_sqrt_w = tf.sqrt(tf.minimum(input_width*1.0 , tf.maximum(0.0,predict_boxes[:,:,:,2])))\r\n",
        "  pred_sqrt_h = tf.sqrt(tf.minimum(input_height*1.0 , tf.maximum(0.0,predict_boxes[:,:,:,3])))\r\n",
        "  pred_sqrt_w = tf.cast(pred_sqrt_w, tf.float32)\r\n",
        "  pred_sqrt_h = tf.cast(pred_sqrt_h, tf.float32)\r\n",
        "\r\n",
        "  #calculate iou between ground_truth and predictions\r\n",
        "  iou_predict_truth = iou(predict_boxes, label[:,4]) #result = inter_square / (square1 + square2 - inter_square + 1e-7)\r\n",
        "\r\n",
        "\r\n",
        "\r\n",
        "\r\n",
        "\r\n"
      ],
      "execution_count": null,
      "outputs": []
    },
    {
      "cell_type": "code",
      "metadata": {
        "id": "ut7PcvWlu9gy"
      },
      "source": [
        "  "
      ],
      "execution_count": null,
      "outputs": []
    }
  ]
}